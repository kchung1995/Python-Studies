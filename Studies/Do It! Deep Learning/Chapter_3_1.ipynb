{
  "nbformat": 4,
  "nbformat_minor": 0,
  "metadata": {
    "colab": {
      "name": "Chapter_3_1.ipynb",
      "provenance": []
    },
    "kernelspec": {
      "name": "python3",
      "display_name": "Python 3"
    }
  },
  "cells": [
    {
      "cell_type": "markdown",
      "metadata": {
        "id": "I4JeulzZM0gv"
      },
      "source": [
        "#3.1  Understanding Linear Regression\n",
        "선형 회귀 (linear regression)은 머신러닝 알고리즘 중 가장 간단하면서도 딥러닝의 기초가 됩니다.   \n",
        "   \n",
        "선형 회귀의 주요 관심사는 y = ax + b와 같은 일차식이 있을 때, x값과 y값을 가지고 기울기 (a)와 절편 (b)값을 찾는 것입니다. \n",
        "   \n",
        "주어진 좌표들이 있고, 일차식 y가 초기값 a와 b를 가진다고 합시다. 이 때, 일차식 y가 주어진 좌표들을 모두 지나려면, a값과 b값을 몇 차레 조정해 줄 필요가 있을 것입니다.   \n",
        "이 때 만드는 일차식 y들을 '선형 회귀로 만든 모델' 이라고 하며, 그 중 맨 마지막에, 주어진 좌표들을 모두 지나게 되는 y를 '최적 선형 회귀 모델' 이라고 합니다.   \n",
        "최적 선형 회귀 모델을 이용하면, 새로운 x값이 주어졌을 때 이에 대응하는 y값을 찾을 수 있고, 그 반대 역시 가능합니다."
      ]
    },
    {
      "cell_type": "markdown",
      "metadata": {
        "id": "sTqevKyTM4Is"
      },
      "source": [
        "현실적인 예를 들어 데이터를 다루어 봅니다.   \n",
        "사이킷런에서 제공하는 당뇨병 환자의 데이터 세트를 사용합니다.   "
      ]
    },
    {
      "cell_type": "code",
      "metadata": {
        "id": "kY9TlPDRMuQU"
      },
      "source": [
        "from sklearn.datasets import load_diabetes\n",
        "diabetes = load_diabetes()"
      ],
      "execution_count": null,
      "outputs": []
    },
    {
      "cell_type": "markdown",
      "metadata": {
        "id": "ulYlxK5dM9re"
      },
      "source": [
        "diabetes의 속성 중 data속성과 target 속성에는, 우리가 필요한 데이터가 numpy array 형태로 저장되어 있습니다. 그 크기를 확인해 봅니다."
      ]
    },
    {
      "cell_type": "code",
      "metadata": {
        "id": "YaMKia8UM_HO"
      },
      "source": [
        "print(diabetes.data.shape, diabetes.target.shape)"
      ],
      "execution_count": null,
      "outputs": []
    },
    {
      "cell_type": "markdown",
      "metadata": {
        "id": "3Ce2PJVPNGnZ"
      },
      "source": [
        "data는 442 * 10 크기의 2차원 array이며, target은 442 크기의 1차원 array 입니다.   "
      ]
    },
    {
      "cell_type": "code",
      "metadata": {
        "id": "B_RLeuPXNKJ3"
      },
      "source": [
        "diabetes.data[0:3]"
      ],
      "execution_count": null,
      "outputs": []
    },
    {
      "cell_type": "markdown",
      "metadata": {
        "id": "u2QmPFIlNMAj"
      },
      "source": [
        "데이터의 앞부분 3개만 출력해 보았습니다.\n",
        "위의 데이터가 의미하는 바는, 한 환자에 대해 10종류의 특성이 존재하며, 총 442명의 환자에 대한 데이터가 저장되어 있는 것입니다."
      ]
    },
    {
      "cell_type": "code",
      "metadata": {
        "id": "Y1kEFPP5NNcM"
      },
      "source": [
        "diabetes.target[:3]"
      ],
      "execution_count": null,
      "outputs": []
    },
    {
      "cell_type": "markdown",
      "metadata": {
        "id": "mfs37pACNPaz"
      },
      "source": [
        "다음은 타깃 데이터입니다. 첫 번째 인덱스는 생략하고 출력하였는데, data에서의 한 샘플에 대해 target의 한 값이 대응합니다.   \n",
        "matplotlib을 이용하여, 데이터가 얼마나 흩어져 있는지 (산점도) 나타내고자 합니다.\n",
        "앞서 언급하였듯, data에는 10개의 특성이 있으므로, 이를 모두 한 번에 표현하려면 3차원 이상의 그래프를 그려야 합니다. 따라서, 세 번째 특성과 타깃 데이터로 산점도를 그려 보았습니다."
      ]
    },
    {
      "cell_type": "code",
      "metadata": {
        "id": "HgE3Bwv_NSm9"
      },
      "source": [
        "import matplotlib.pyplot as plt\n",
        "plt.scatter(diabetes.data[:, 2], diabetes.target)\n",
        "plt.xlabel('x')\n",
        "plt.ylabel('y')\n",
        "plt.show()"
      ],
      "execution_count": null,
      "outputs": []
    },
    {
      "cell_type": "markdown",
      "metadata": {
        "id": "5W__M4SFNUYW"
      },
      "source": [
        "위에서 그린 데이터를 편하게 다루기 위하여, data의 세 번째 특성과 target을 각각 x, y 변수에 담겠습니다."
      ]
    },
    {
      "cell_type": "code",
      "metadata": {
        "id": "RWLXKZOwNVkN"
      },
      "source": [
        "x = diabetes.data[:, 2]\n",
        "y = diabetes.target"
      ],
      "execution_count": null,
      "outputs": []
    }
  ]
}
