{
  "nbformat": 4,
  "nbformat_minor": 0,
  "metadata": {
    "colab": {
      "name": "Pandas Tutorial.ipynb",
      "provenance": [],
      "collapsed_sections": []
    },
    "kernelspec": {
      "name": "python3",
      "display_name": "Python 3"
    }
  },
  "cells": [
    {
      "cell_type": "markdown",
      "metadata": {
        "id": "b3_a2DOD9X9q"
      },
      "source": [
        "#Pandas\n",
        "Pandas 역시 NumPy와 비슷하게, data science 및 data analysis 분야에서 필수적으로 사용되는 파이썬 라이브러리입니다.   \n",
        "https://lectures.quantecon.org/py/ 의 튜토리얼을 참고하였으며,   \n",
        "https://youtu.be/iGFdh6_FePU 유튜브 영상 또한 참고하였습니다."
      ]
    },
    {
      "cell_type": "code",
      "metadata": {
        "id": "WF-oxAbO8wlZ"
      },
      "source": [
        "import pandas as pd\n",
        "import numpy as np"
      ],
      "execution_count": 3,
      "outputs": []
    },
    {
      "cell_type": "markdown",
      "metadata": {
        "id": "HHxQHZwN-0WY"
      },
      "source": [
        "#Introduction\n",
        "Pandas에서 정의된 가장 중요한 두 데이터타입은 Series와 Dataframe 이라고 합니다.   \n",
        "Series란, 어떤 변수에 대한 관측을 모아두거나 하는, 자료의 'column' 이라고 생각할 수 있습니다.   \n",
        "Dataframe은, 관련된 data의 column을 모아 두는 object 입니다.\n",
        "\n",
        "자세한 내용은 공식 문서를 참고하시면 좋을 것 같습니다.   \n",
        "https://pandas.pydata.org/pandas-docs/stable/reference/api/pandas.Series.html   \n",
        "https://pandas.pydata.org/pandas-docs/stable/reference/api/pandas.DataFrame.html   \n"
      ]
    },
    {
      "cell_type": "markdown",
      "metadata": {
        "id": "oTWQX2GoDMKi"
      },
      "source": [
        "#Series"
      ]
    },
    {
      "cell_type": "code",
      "metadata": {
        "id": "2scDSXnR_4nv",
        "outputId": "c10d63d5-7349-40a6-e801-94b9d4ee276e",
        "colab": {
          "base_uri": "https://localhost:8080/",
          "height": 102
        }
      },
      "source": [
        "s = pd.Series(np.random.randn(4), name='daily returns')\n",
        "s"
      ],
      "execution_count": 4,
      "outputs": [
        {
          "output_type": "execute_result",
          "data": {
            "text/plain": [
              "0   -2.551820\n",
              "1    0.036482\n",
              "2    0.968182\n",
              "3   -1.431717\n",
              "Name: daily returns, dtype: float64"
            ]
          },
          "metadata": {
            "tags": []
          },
          "execution_count": 4
        }
      ]
    },
    {
      "cell_type": "markdown",
      "metadata": {
        "id": "UBdyxy1IAvzG"
      },
      "source": [
        "인덱스 0, 1, 2, 3이 pd.Series로부터 생성되었고, 각 인덱스에는 NumPy의 random으로 값이 정해졌습니다.   \n",
        "아래에는 series의 이름이 나타내어져 있으며, 데이터 타입 또한 표시해 줍니다."
      ]
    },
    {
      "cell_type": "code",
      "metadata": {
        "id": "JHaYjfzqBJFs",
        "outputId": "1f1c712d-6cc6-45ee-f70b-6a46f6dabc10",
        "colab": {
          "base_uri": "https://localhost:8080/",
          "height": 102
        }
      },
      "source": [
        "s * 100"
      ],
      "execution_count": 5,
      "outputs": [
        {
          "output_type": "execute_result",
          "data": {
            "text/plain": [
              "0   -255.182038\n",
              "1      3.648183\n",
              "2     96.818157\n",
              "3   -143.171672\n",
              "Name: daily returns, dtype: float64"
            ]
          },
          "metadata": {
            "tags": []
          },
          "execution_count": 5
        }
      ]
    },
    {
      "cell_type": "markdown",
      "metadata": {
        "id": "YFyHDWDIBMbz"
      },
      "source": [
        "우리가 array에 하는 것과 비슷하게, series 전체에 특정 값을 곱하는 등의 연산이 가능합니다."
      ]
    },
    {
      "cell_type": "code",
      "metadata": {
        "id": "Zr4e94mGBWU7",
        "outputId": "ea12ad5e-9c83-472b-e0a4-fe67e8bb58fd",
        "colab": {
          "base_uri": "https://localhost:8080/",
          "height": 102
        }
      },
      "source": [
        "np.abs(s)"
      ],
      "execution_count": 6,
      "outputs": [
        {
          "output_type": "execute_result",
          "data": {
            "text/plain": [
              "0    2.551820\n",
              "1    0.036482\n",
              "2    0.968182\n",
              "3    1.431717\n",
              "Name: daily returns, dtype: float64"
            ]
          },
          "metadata": {
            "tags": []
          },
          "execution_count": 6
        }
      ]
    },
    {
      "cell_type": "code",
      "metadata": {
        "id": "5ATsQxq3BfOn",
        "outputId": "26475082-c4de-4ef8-c907-28ae0b47845f",
        "colab": {
          "base_uri": "https://localhost:8080/",
          "height": 170
        }
      },
      "source": [
        "s.describe()"
      ],
      "execution_count": 7,
      "outputs": [
        {
          "output_type": "execute_result",
          "data": {
            "text/plain": [
              "count    4.000000\n",
              "mean    -0.744718\n",
              "std      1.557978\n",
              "min     -2.551820\n",
              "25%     -1.711743\n",
              "50%     -0.697617\n",
              "75%      0.269407\n",
              "max      0.968182\n",
              "Name: daily returns, dtype: float64"
            ]
          },
          "metadata": {
            "tags": []
          },
          "execution_count": 7
        }
      ]
    },
    {
      "cell_type": "markdown",
      "metadata": {
        "id": "FxMgVZ_dBiV6"
      },
      "source": [
        "series만의 메소드 역시 존재합니다.   \n",
        "describe라는 메소드 (위에서 언급했던 documentation 내에 자세한 내용이 있습니다)는, 해당 series에 대한 구체적인 통계적 값을 보여줍니다."
      ]
    },
    {
      "cell_type": "markdown",
      "metadata": {
        "id": "H7n0n9-SCLoU"
      },
      "source": [
        "index의 각 항목들을 단순히 0, 1, 2, 3... 과 같은 숫자뿐만 아니라, 다음과 같이 이름을 변경할 수 있습니다 (re-labeling the index)."
      ]
    },
    {
      "cell_type": "code",
      "metadata": {
        "id": "BdMQGRlACRNc",
        "outputId": "7818c8ef-1a27-4052-a741-113801484612",
        "colab": {
          "base_uri": "https://localhost:8080/",
          "height": 102
        }
      },
      "source": [
        "s.index = ['AMZN', 'AAPL', 'MSFT', 'GOOG']\n",
        "s"
      ],
      "execution_count": 8,
      "outputs": [
        {
          "output_type": "execute_result",
          "data": {
            "text/plain": [
              "AMZN   -2.551820\n",
              "AAPL    0.036482\n",
              "MSFT    0.968182\n",
              "GOOG   -1.431717\n",
              "Name: daily returns, dtype: float64"
            ]
          },
          "metadata": {
            "tags": []
          },
          "execution_count": 8
        }
      ]
    },
    {
      "cell_type": "markdown",
      "metadata": {
        "id": "ovgUj5O9CpAK"
      },
      "source": [
        "위와 같이, series는 빠르고 효과적인 Python의 dictionray와 같다고 할 수 있습니다.   \n",
        "다만 dictionary 내의 모든 데이터 타입이 동일해야 하는 제한 사항이 있습니다. 위의 경우는 float입니다.   \n",
        "실제로 dictionary와 매우 유사한 방법으로 사용할 수 있습니다."
      ]
    },
    {
      "cell_type": "code",
      "metadata": {
        "id": "ld-ZNmC4C7lq",
        "outputId": "63db9930-f4e9-4ff3-8f05-7c26e2c596ff",
        "colab": {
          "base_uri": "https://localhost:8080/",
          "height": 34
        }
      },
      "source": [
        "s['AMZN']"
      ],
      "execution_count": 9,
      "outputs": [
        {
          "output_type": "execute_result",
          "data": {
            "text/plain": [
              "-2.551820381896345"
            ]
          },
          "metadata": {
            "tags": []
          },
          "execution_count": 9
        }
      ]
    },
    {
      "cell_type": "code",
      "metadata": {
        "id": "9rH-RxgDDAuE",
        "outputId": "9a782868-f9dd-4f59-fbea-f71c8866c62d",
        "colab": {
          "base_uri": "https://localhost:8080/",
          "height": 102
        }
      },
      "source": [
        "s['AMZN'] = 0\n",
        "s"
      ],
      "execution_count": 10,
      "outputs": [
        {
          "output_type": "execute_result",
          "data": {
            "text/plain": [
              "AMZN    0.000000\n",
              "AAPL    0.036482\n",
              "MSFT    0.968182\n",
              "GOOG   -1.431717\n",
              "Name: daily returns, dtype: float64"
            ]
          },
          "metadata": {
            "tags": []
          },
          "execution_count": 10
        }
      ]
    },
    {
      "cell_type": "markdown",
      "metadata": {
        "id": "2bSDcVI3DD1N"
      },
      "source": [
        "위처럼 특정 index의 값을 조회할 수도 있고, 값을 재설정할 수도 있습니다."
      ]
    },
    {
      "cell_type": "code",
      "metadata": {
        "id": "IqLZrcnfDvMf",
        "outputId": "6daccc20-51c1-4985-a875-08b1c27689e2",
        "colab": {
          "base_uri": "https://localhost:8080/",
          "height": 34
        }
      },
      "source": [
        "'AAPL' in s"
      ],
      "execution_count": 11,
      "outputs": [
        {
          "output_type": "execute_result",
          "data": {
            "text/plain": [
              "True"
            ]
          },
          "metadata": {
            "tags": []
          },
          "execution_count": 11
        }
      ]
    },
    {
      "cell_type": "markdown",
      "metadata": {
        "id": "CWuouHpJDyq1"
      },
      "source": [
        "#Dataframe\n",
        "Series가 하나의 data column이었다면, Dataframe은 각 변수들에 대한 column의 집합이라고 할 수 있습니다.   \n",
        "Excel의 spreadsheet와 매우 비슷하다고 생각하시면 될 것 같습니다.   \n",
        "따라서, dataframe은 행과 열 (rows and columns)로 이루어진 방대한 양의 데이터, 특히 각 row와 column에 대한 구체적인 index가 정해진 데이터를 다루고 나타내기에 매우 최적화되어 있는 도구입니다.   \n",
        "   \n",
        "예제 사이트에서 제공한 csv 파일을 사용하였습니다."
      ]
    },
    {
      "cell_type": "code",
      "metadata": {
        "id": "xEDRjlBHFZk9",
        "outputId": "77c7d2a8-6da8-4a88-e448-9afbd42a5d00",
        "colab": {
          "base_uri": "https://localhost:8080/",
          "height": 34
        }
      },
      "source": [
        "df = pd.read_csv('https://github.com/QuantEcon/QuantEcon.lectures.code/raw/master/pandas/data/test_pwt.csv')\n",
        "type(df)"
      ],
      "execution_count": 23,
      "outputs": [
        {
          "output_type": "execute_result",
          "data": {
            "text/plain": [
              "pandas.core.frame.DataFrame"
            ]
          },
          "metadata": {
            "tags": []
          },
          "execution_count": 23
        }
      ]
    },
    {
      "cell_type": "markdown",
      "metadata": {
        "id": "pKxCZmknGDQa"
      },
      "source": [
        "read_csv는 pandas에서 매우 자주 사용하게 될 함수입니다 (역시나 documentation 참고: https://pandas.pydata.org/pandas-docs/stable/reference/api/pandas.read_csv.html?highlight=read_csv#pandas.read_csv)   \n"
      ]
    },
    {
      "cell_type": "code",
      "metadata": {
        "id": "sKH5w80sGdNm",
        "outputId": "bb1e416f-e21a-4191-8761-048536f4d1c1",
        "colab": {
          "base_uri": "https://localhost:8080/",
          "height": 297
        }
      },
      "source": [
        "df"
      ],
      "execution_count": 15,
      "outputs": [
        {
          "output_type": "execute_result",
          "data": {
            "text/html": [
              "<div>\n",
              "<style scoped>\n",
              "    .dataframe tbody tr th:only-of-type {\n",
              "        vertical-align: middle;\n",
              "    }\n",
              "\n",
              "    .dataframe tbody tr th {\n",
              "        vertical-align: top;\n",
              "    }\n",
              "\n",
              "    .dataframe thead th {\n",
              "        text-align: right;\n",
              "    }\n",
              "</style>\n",
              "<table border=\"1\" class=\"dataframe\">\n",
              "  <thead>\n",
              "    <tr style=\"text-align: right;\">\n",
              "      <th></th>\n",
              "      <th>country</th>\n",
              "      <th>country isocode</th>\n",
              "      <th>year</th>\n",
              "      <th>POP</th>\n",
              "      <th>XRAT</th>\n",
              "      <th>tcgdp</th>\n",
              "      <th>cc</th>\n",
              "      <th>cg</th>\n",
              "    </tr>\n",
              "  </thead>\n",
              "  <tbody>\n",
              "    <tr>\n",
              "      <th>0</th>\n",
              "      <td>Argentina</td>\n",
              "      <td>ARG</td>\n",
              "      <td>2000</td>\n",
              "      <td>37335.653</td>\n",
              "      <td>0.999500</td>\n",
              "      <td>2.950722e+05</td>\n",
              "      <td>75.716805</td>\n",
              "      <td>5.578804</td>\n",
              "    </tr>\n",
              "    <tr>\n",
              "      <th>1</th>\n",
              "      <td>Australia</td>\n",
              "      <td>AUS</td>\n",
              "      <td>2000</td>\n",
              "      <td>19053.186</td>\n",
              "      <td>1.724830</td>\n",
              "      <td>5.418047e+05</td>\n",
              "      <td>67.759026</td>\n",
              "      <td>6.720098</td>\n",
              "    </tr>\n",
              "    <tr>\n",
              "      <th>2</th>\n",
              "      <td>India</td>\n",
              "      <td>IND</td>\n",
              "      <td>2000</td>\n",
              "      <td>1006300.297</td>\n",
              "      <td>44.941600</td>\n",
              "      <td>1.728144e+06</td>\n",
              "      <td>64.575551</td>\n",
              "      <td>14.072206</td>\n",
              "    </tr>\n",
              "    <tr>\n",
              "      <th>3</th>\n",
              "      <td>Israel</td>\n",
              "      <td>ISR</td>\n",
              "      <td>2000</td>\n",
              "      <td>6114.570</td>\n",
              "      <td>4.077330</td>\n",
              "      <td>1.292539e+05</td>\n",
              "      <td>64.436451</td>\n",
              "      <td>10.266688</td>\n",
              "    </tr>\n",
              "    <tr>\n",
              "      <th>4</th>\n",
              "      <td>Malawi</td>\n",
              "      <td>MWI</td>\n",
              "      <td>2000</td>\n",
              "      <td>11801.505</td>\n",
              "      <td>59.543808</td>\n",
              "      <td>5.026222e+03</td>\n",
              "      <td>74.707624</td>\n",
              "      <td>11.658954</td>\n",
              "    </tr>\n",
              "    <tr>\n",
              "      <th>5</th>\n",
              "      <td>South Africa</td>\n",
              "      <td>ZAF</td>\n",
              "      <td>2000</td>\n",
              "      <td>45064.098</td>\n",
              "      <td>6.939830</td>\n",
              "      <td>2.272424e+05</td>\n",
              "      <td>72.718710</td>\n",
              "      <td>5.726546</td>\n",
              "    </tr>\n",
              "    <tr>\n",
              "      <th>6</th>\n",
              "      <td>United States</td>\n",
              "      <td>USA</td>\n",
              "      <td>2000</td>\n",
              "      <td>282171.957</td>\n",
              "      <td>1.000000</td>\n",
              "      <td>9.898700e+06</td>\n",
              "      <td>72.347054</td>\n",
              "      <td>6.032454</td>\n",
              "    </tr>\n",
              "    <tr>\n",
              "      <th>7</th>\n",
              "      <td>Uruguay</td>\n",
              "      <td>URY</td>\n",
              "      <td>2000</td>\n",
              "      <td>3219.793</td>\n",
              "      <td>12.099592</td>\n",
              "      <td>2.525596e+04</td>\n",
              "      <td>78.978740</td>\n",
              "      <td>5.108068</td>\n",
              "    </tr>\n",
              "  </tbody>\n",
              "</table>\n",
              "</div>"
            ],
            "text/plain": [
              "         country country isocode  year  ...         tcgdp         cc         cg\n",
              "0      Argentina             ARG  2000  ...  2.950722e+05  75.716805   5.578804\n",
              "1      Australia             AUS  2000  ...  5.418047e+05  67.759026   6.720098\n",
              "2          India             IND  2000  ...  1.728144e+06  64.575551  14.072206\n",
              "3         Israel             ISR  2000  ...  1.292539e+05  64.436451  10.266688\n",
              "4         Malawi             MWI  2000  ...  5.026222e+03  74.707624  11.658954\n",
              "5   South Africa             ZAF  2000  ...  2.272424e+05  72.718710   5.726546\n",
              "6  United States             USA  2000  ...  9.898700e+06  72.347054   6.032454\n",
              "7        Uruguay             URY  2000  ...  2.525596e+04  78.978740   5.108068\n",
              "\n",
              "[8 rows x 8 columns]"
            ]
          },
          "metadata": {
            "tags": []
          },
          "execution_count": 15
        }
      ]
    },
    {
      "cell_type": "markdown",
      "metadata": {
        "id": "2K0etkMOGh8t"
      },
      "source": [
        "csv 파일에서 읽은 data를 구체적으로 출력하였습니다.   \n",
        "각 column과 row의 index가 나타내져 있고, 이를 바탕으로 각 데이터가 표시되어 있는 점을 눈여겨 보시면 좋을 것 같습니다.\n"
      ]
    },
    {
      "cell_type": "code",
      "metadata": {
        "id": "8S2Cwp3pG2Ak",
        "outputId": "bd56ac95-e594-4341-b2e9-27d69a3284bd",
        "colab": {
          "base_uri": "https://localhost:8080/",
          "height": 142
        }
      },
      "source": [
        "df[2:5]"
      ],
      "execution_count": 16,
      "outputs": [
        {
          "output_type": "execute_result",
          "data": {
            "text/html": [
              "<div>\n",
              "<style scoped>\n",
              "    .dataframe tbody tr th:only-of-type {\n",
              "        vertical-align: middle;\n",
              "    }\n",
              "\n",
              "    .dataframe tbody tr th {\n",
              "        vertical-align: top;\n",
              "    }\n",
              "\n",
              "    .dataframe thead th {\n",
              "        text-align: right;\n",
              "    }\n",
              "</style>\n",
              "<table border=\"1\" class=\"dataframe\">\n",
              "  <thead>\n",
              "    <tr style=\"text-align: right;\">\n",
              "      <th></th>\n",
              "      <th>country</th>\n",
              "      <th>country isocode</th>\n",
              "      <th>year</th>\n",
              "      <th>POP</th>\n",
              "      <th>XRAT</th>\n",
              "      <th>tcgdp</th>\n",
              "      <th>cc</th>\n",
              "      <th>cg</th>\n",
              "    </tr>\n",
              "  </thead>\n",
              "  <tbody>\n",
              "    <tr>\n",
              "      <th>2</th>\n",
              "      <td>India</td>\n",
              "      <td>IND</td>\n",
              "      <td>2000</td>\n",
              "      <td>1006300.297</td>\n",
              "      <td>44.941600</td>\n",
              "      <td>1.728144e+06</td>\n",
              "      <td>64.575551</td>\n",
              "      <td>14.072206</td>\n",
              "    </tr>\n",
              "    <tr>\n",
              "      <th>3</th>\n",
              "      <td>Israel</td>\n",
              "      <td>ISR</td>\n",
              "      <td>2000</td>\n",
              "      <td>6114.570</td>\n",
              "      <td>4.077330</td>\n",
              "      <td>1.292539e+05</td>\n",
              "      <td>64.436451</td>\n",
              "      <td>10.266688</td>\n",
              "    </tr>\n",
              "    <tr>\n",
              "      <th>4</th>\n",
              "      <td>Malawi</td>\n",
              "      <td>MWI</td>\n",
              "      <td>2000</td>\n",
              "      <td>11801.505</td>\n",
              "      <td>59.543808</td>\n",
              "      <td>5.026222e+03</td>\n",
              "      <td>74.707624</td>\n",
              "      <td>11.658954</td>\n",
              "    </tr>\n",
              "  </tbody>\n",
              "</table>\n",
              "</div>"
            ],
            "text/plain": [
              "  country country isocode  year  ...         tcgdp         cc         cg\n",
              "2   India             IND  2000  ...  1.728144e+06  64.575551  14.072206\n",
              "3  Israel             ISR  2000  ...  1.292539e+05  64.436451  10.266688\n",
              "4  Malawi             MWI  2000  ...  5.026222e+03  74.707624  11.658954\n",
              "\n",
              "[3 rows x 8 columns]"
            ]
          },
          "metadata": {
            "tags": []
          },
          "execution_count": 16
        }
      ]
    },
    {
      "cell_type": "markdown",
      "metadata": {
        "id": "LQd5SDrVG9dx"
      },
      "source": [
        "자주 사용하듯 범위를 지정하는 표기를 dataframe에서도 사용할 수 있습니다.   \n"
      ]
    },
    {
      "cell_type": "code",
      "metadata": {
        "id": "nIR4kXuyHIJG",
        "outputId": "85d923b4-2b8a-49f9-faae-9404c6b1845f",
        "colab": {
          "base_uri": "https://localhost:8080/",
          "height": 297
        }
      },
      "source": [
        "df[['country', 'tcgdp']]"
      ],
      "execution_count": 17,
      "outputs": [
        {
          "output_type": "execute_result",
          "data": {
            "text/html": [
              "<div>\n",
              "<style scoped>\n",
              "    .dataframe tbody tr th:only-of-type {\n",
              "        vertical-align: middle;\n",
              "    }\n",
              "\n",
              "    .dataframe tbody tr th {\n",
              "        vertical-align: top;\n",
              "    }\n",
              "\n",
              "    .dataframe thead th {\n",
              "        text-align: right;\n",
              "    }\n",
              "</style>\n",
              "<table border=\"1\" class=\"dataframe\">\n",
              "  <thead>\n",
              "    <tr style=\"text-align: right;\">\n",
              "      <th></th>\n",
              "      <th>country</th>\n",
              "      <th>tcgdp</th>\n",
              "    </tr>\n",
              "  </thead>\n",
              "  <tbody>\n",
              "    <tr>\n",
              "      <th>0</th>\n",
              "      <td>Argentina</td>\n",
              "      <td>2.950722e+05</td>\n",
              "    </tr>\n",
              "    <tr>\n",
              "      <th>1</th>\n",
              "      <td>Australia</td>\n",
              "      <td>5.418047e+05</td>\n",
              "    </tr>\n",
              "    <tr>\n",
              "      <th>2</th>\n",
              "      <td>India</td>\n",
              "      <td>1.728144e+06</td>\n",
              "    </tr>\n",
              "    <tr>\n",
              "      <th>3</th>\n",
              "      <td>Israel</td>\n",
              "      <td>1.292539e+05</td>\n",
              "    </tr>\n",
              "    <tr>\n",
              "      <th>4</th>\n",
              "      <td>Malawi</td>\n",
              "      <td>5.026222e+03</td>\n",
              "    </tr>\n",
              "    <tr>\n",
              "      <th>5</th>\n",
              "      <td>South Africa</td>\n",
              "      <td>2.272424e+05</td>\n",
              "    </tr>\n",
              "    <tr>\n",
              "      <th>6</th>\n",
              "      <td>United States</td>\n",
              "      <td>9.898700e+06</td>\n",
              "    </tr>\n",
              "    <tr>\n",
              "      <th>7</th>\n",
              "      <td>Uruguay</td>\n",
              "      <td>2.525596e+04</td>\n",
              "    </tr>\n",
              "  </tbody>\n",
              "</table>\n",
              "</div>"
            ],
            "text/plain": [
              "         country         tcgdp\n",
              "0      Argentina  2.950722e+05\n",
              "1      Australia  5.418047e+05\n",
              "2          India  1.728144e+06\n",
              "3         Israel  1.292539e+05\n",
              "4         Malawi  5.026222e+03\n",
              "5   South Africa  2.272424e+05\n",
              "6  United States  9.898700e+06\n",
              "7        Uruguay  2.525596e+04"
            ]
          },
          "metadata": {
            "tags": []
          },
          "execution_count": 17
        }
      ]
    },
    {
      "cell_type": "markdown",
      "metadata": {
        "id": "VKlZEa9sHQw-"
      },
      "source": [
        "원하는 column만 지정해서 출력하는 것도 가능합니다."
      ]
    },
    {
      "cell_type": "markdown",
      "metadata": {
        "id": "m1AksRudHVft"
      },
      "source": [
        "iloc은 굉장히 강력한 기능을 제공합니다.   \n",
        "정수형에 기반한 indexing에 사용됩니다.\n",
        "   \n",
        "https://pandas.pydata.org/pandas-docs/stable/reference/api/pandas.DataFrame.iloc.html\n",
        "   \n",
        "정수형에 기반하지 않은, loc 도 존재합니다.   \n",
        "https://pandas.pydata.org/pandas-docs/stable/reference/api/pandas.DataFrame.loc.html"
      ]
    },
    {
      "cell_type": "code",
      "metadata": {
        "id": "oJ1l7ZfBHx1y",
        "outputId": "562b4075-da20-44cf-c748-977f4fdbf8f9",
        "colab": {
          "base_uri": "https://localhost:8080/",
          "height": 142
        }
      },
      "source": [
        "df.iloc[2:5, 0:4]"
      ],
      "execution_count": 18,
      "outputs": [
        {
          "output_type": "execute_result",
          "data": {
            "text/html": [
              "<div>\n",
              "<style scoped>\n",
              "    .dataframe tbody tr th:only-of-type {\n",
              "        vertical-align: middle;\n",
              "    }\n",
              "\n",
              "    .dataframe tbody tr th {\n",
              "        vertical-align: top;\n",
              "    }\n",
              "\n",
              "    .dataframe thead th {\n",
              "        text-align: right;\n",
              "    }\n",
              "</style>\n",
              "<table border=\"1\" class=\"dataframe\">\n",
              "  <thead>\n",
              "    <tr style=\"text-align: right;\">\n",
              "      <th></th>\n",
              "      <th>country</th>\n",
              "      <th>country isocode</th>\n",
              "      <th>year</th>\n",
              "      <th>POP</th>\n",
              "    </tr>\n",
              "  </thead>\n",
              "  <tbody>\n",
              "    <tr>\n",
              "      <th>2</th>\n",
              "      <td>India</td>\n",
              "      <td>IND</td>\n",
              "      <td>2000</td>\n",
              "      <td>1006300.297</td>\n",
              "    </tr>\n",
              "    <tr>\n",
              "      <th>3</th>\n",
              "      <td>Israel</td>\n",
              "      <td>ISR</td>\n",
              "      <td>2000</td>\n",
              "      <td>6114.570</td>\n",
              "    </tr>\n",
              "    <tr>\n",
              "      <th>4</th>\n",
              "      <td>Malawi</td>\n",
              "      <td>MWI</td>\n",
              "      <td>2000</td>\n",
              "      <td>11801.505</td>\n",
              "    </tr>\n",
              "  </tbody>\n",
              "</table>\n",
              "</div>"
            ],
            "text/plain": [
              "  country country isocode  year          POP\n",
              "2   India             IND  2000  1006300.297\n",
              "3  Israel             ISR  2000     6114.570\n",
              "4  Malawi             MWI  2000    11801.505"
            ]
          },
          "metadata": {
            "tags": []
          },
          "execution_count": 18
        }
      ]
    },
    {
      "cell_type": "markdown",
      "metadata": {
        "id": "Fz9xxbogH3mg"
      },
      "source": [
        "iloc을 이용하여 row 2에서 4까지, column 0에서 3까지를 지정하여 출력하는 모습입니다."
      ]
    },
    {
      "cell_type": "code",
      "metadata": {
        "id": "uqnqegzbIQ-2",
        "outputId": "fce01068-5103-48f7-b684-e106653e321d",
        "colab": {
          "base_uri": "https://localhost:8080/",
          "height": 142
        }
      },
      "source": [
        "df.loc[df.index[2:5], ['country', 'tcgdp']]"
      ],
      "execution_count": 24,
      "outputs": [
        {
          "output_type": "execute_result",
          "data": {
            "text/html": [
              "<div>\n",
              "<style scoped>\n",
              "    .dataframe tbody tr th:only-of-type {\n",
              "        vertical-align: middle;\n",
              "    }\n",
              "\n",
              "    .dataframe tbody tr th {\n",
              "        vertical-align: top;\n",
              "    }\n",
              "\n",
              "    .dataframe thead th {\n",
              "        text-align: right;\n",
              "    }\n",
              "</style>\n",
              "<table border=\"1\" class=\"dataframe\">\n",
              "  <thead>\n",
              "    <tr style=\"text-align: right;\">\n",
              "      <th></th>\n",
              "      <th>country</th>\n",
              "      <th>tcgdp</th>\n",
              "    </tr>\n",
              "  </thead>\n",
              "  <tbody>\n",
              "    <tr>\n",
              "      <th>2</th>\n",
              "      <td>India</td>\n",
              "      <td>1.728144e+06</td>\n",
              "    </tr>\n",
              "    <tr>\n",
              "      <th>3</th>\n",
              "      <td>Israel</td>\n",
              "      <td>1.292539e+05</td>\n",
              "    </tr>\n",
              "    <tr>\n",
              "      <th>4</th>\n",
              "      <td>Malawi</td>\n",
              "      <td>5.026222e+03</td>\n",
              "    </tr>\n",
              "  </tbody>\n",
              "</table>\n",
              "</div>"
            ],
            "text/plain": [
              "  country         tcgdp\n",
              "2   India  1.728144e+06\n",
              "3  Israel  1.292539e+05\n",
              "4  Malawi  5.026222e+03"
            ]
          },
          "metadata": {
            "tags": []
          },
          "execution_count": 24
        }
      ]
    },
    {
      "cell_type": "markdown",
      "metadata": {
        "id": "uWEk7edbIacq"
      },
      "source": [
        "loc을 이용하여, 정수와 이름 label로 특정 영역을 가리켜 출력하였습니다."
      ]
    },
    {
      "cell_type": "markdown",
      "metadata": {
        "id": "8kwnQ1G-JeUD"
      },
      "source": [
        "dataframe 내에서 특정 column만 추출할 수 있습니다.   \n",
        "위 자료에서, population과 total GDP (tcgdp) 에만 관심이 있다고 해 봅시다.   \n",
        "특정 index의 이름을 가리켜, 다음과 같이 df를 재정의할 수 있습니다."
      ]
    },
    {
      "cell_type": "code",
      "metadata": {
        "id": "3qR8NB2FJceQ",
        "outputId": "d7bc7cca-c557-4e35-8ad1-e09b5e1965c8",
        "colab": {
          "base_uri": "https://localhost:8080/",
          "height": 297
        }
      },
      "source": [
        "df = df[['country','POP','tcgdp']]\n",
        "df"
      ],
      "execution_count": 25,
      "outputs": [
        {
          "output_type": "execute_result",
          "data": {
            "text/html": [
              "<div>\n",
              "<style scoped>\n",
              "    .dataframe tbody tr th:only-of-type {\n",
              "        vertical-align: middle;\n",
              "    }\n",
              "\n",
              "    .dataframe tbody tr th {\n",
              "        vertical-align: top;\n",
              "    }\n",
              "\n",
              "    .dataframe thead th {\n",
              "        text-align: right;\n",
              "    }\n",
              "</style>\n",
              "<table border=\"1\" class=\"dataframe\">\n",
              "  <thead>\n",
              "    <tr style=\"text-align: right;\">\n",
              "      <th></th>\n",
              "      <th>country</th>\n",
              "      <th>POP</th>\n",
              "      <th>tcgdp</th>\n",
              "    </tr>\n",
              "  </thead>\n",
              "  <tbody>\n",
              "    <tr>\n",
              "      <th>0</th>\n",
              "      <td>Argentina</td>\n",
              "      <td>37335.653</td>\n",
              "      <td>2.950722e+05</td>\n",
              "    </tr>\n",
              "    <tr>\n",
              "      <th>1</th>\n",
              "      <td>Australia</td>\n",
              "      <td>19053.186</td>\n",
              "      <td>5.418047e+05</td>\n",
              "    </tr>\n",
              "    <tr>\n",
              "      <th>2</th>\n",
              "      <td>India</td>\n",
              "      <td>1006300.297</td>\n",
              "      <td>1.728144e+06</td>\n",
              "    </tr>\n",
              "    <tr>\n",
              "      <th>3</th>\n",
              "      <td>Israel</td>\n",
              "      <td>6114.570</td>\n",
              "      <td>1.292539e+05</td>\n",
              "    </tr>\n",
              "    <tr>\n",
              "      <th>4</th>\n",
              "      <td>Malawi</td>\n",
              "      <td>11801.505</td>\n",
              "      <td>5.026222e+03</td>\n",
              "    </tr>\n",
              "    <tr>\n",
              "      <th>5</th>\n",
              "      <td>South Africa</td>\n",
              "      <td>45064.098</td>\n",
              "      <td>2.272424e+05</td>\n",
              "    </tr>\n",
              "    <tr>\n",
              "      <th>6</th>\n",
              "      <td>United States</td>\n",
              "      <td>282171.957</td>\n",
              "      <td>9.898700e+06</td>\n",
              "    </tr>\n",
              "    <tr>\n",
              "      <th>7</th>\n",
              "      <td>Uruguay</td>\n",
              "      <td>3219.793</td>\n",
              "      <td>2.525596e+04</td>\n",
              "    </tr>\n",
              "  </tbody>\n",
              "</table>\n",
              "</div>"
            ],
            "text/plain": [
              "         country          POP         tcgdp\n",
              "0      Argentina    37335.653  2.950722e+05\n",
              "1      Australia    19053.186  5.418047e+05\n",
              "2          India  1006300.297  1.728144e+06\n",
              "3         Israel     6114.570  1.292539e+05\n",
              "4         Malawi    11801.505  5.026222e+03\n",
              "5   South Africa    45064.098  2.272424e+05\n",
              "6  United States   282171.957  9.898700e+06\n",
              "7        Uruguay     3219.793  2.525596e+04"
            ]
          },
          "metadata": {
            "tags": []
          },
          "execution_count": 25
        }
      ]
    },
    {
      "cell_type": "markdown",
      "metadata": {
        "id": "twVt4E3gIotB"
      },
      "source": [
        "위에서는 자료의 왼쪽에 숫자로 0, 1, 2, 3... 와 같이 순서대로 적혀 있는 것을 볼 수 있습니다.   \n",
        "하지만 index를 국가 이름으로 지정하는 방법도 있습니다."
      ]
    },
    {
      "cell_type": "code",
      "metadata": {
        "id": "BCT_RSjuI1qT",
        "outputId": "40c9a54a-cbc4-4e1c-d627-c04f293cf399",
        "colab": {
          "base_uri": "https://localhost:8080/",
          "height": 328
        }
      },
      "source": [
        "df = df.set_index('country')\n",
        "df"
      ],
      "execution_count": 26,
      "outputs": [
        {
          "output_type": "execute_result",
          "data": {
            "text/html": [
              "<div>\n",
              "<style scoped>\n",
              "    .dataframe tbody tr th:only-of-type {\n",
              "        vertical-align: middle;\n",
              "    }\n",
              "\n",
              "    .dataframe tbody tr th {\n",
              "        vertical-align: top;\n",
              "    }\n",
              "\n",
              "    .dataframe thead th {\n",
              "        text-align: right;\n",
              "    }\n",
              "</style>\n",
              "<table border=\"1\" class=\"dataframe\">\n",
              "  <thead>\n",
              "    <tr style=\"text-align: right;\">\n",
              "      <th></th>\n",
              "      <th>POP</th>\n",
              "      <th>tcgdp</th>\n",
              "    </tr>\n",
              "    <tr>\n",
              "      <th>country</th>\n",
              "      <th></th>\n",
              "      <th></th>\n",
              "    </tr>\n",
              "  </thead>\n",
              "  <tbody>\n",
              "    <tr>\n",
              "      <th>Argentina</th>\n",
              "      <td>37335.653</td>\n",
              "      <td>2.950722e+05</td>\n",
              "    </tr>\n",
              "    <tr>\n",
              "      <th>Australia</th>\n",
              "      <td>19053.186</td>\n",
              "      <td>5.418047e+05</td>\n",
              "    </tr>\n",
              "    <tr>\n",
              "      <th>India</th>\n",
              "      <td>1006300.297</td>\n",
              "      <td>1.728144e+06</td>\n",
              "    </tr>\n",
              "    <tr>\n",
              "      <th>Israel</th>\n",
              "      <td>6114.570</td>\n",
              "      <td>1.292539e+05</td>\n",
              "    </tr>\n",
              "    <tr>\n",
              "      <th>Malawi</th>\n",
              "      <td>11801.505</td>\n",
              "      <td>5.026222e+03</td>\n",
              "    </tr>\n",
              "    <tr>\n",
              "      <th>South Africa</th>\n",
              "      <td>45064.098</td>\n",
              "      <td>2.272424e+05</td>\n",
              "    </tr>\n",
              "    <tr>\n",
              "      <th>United States</th>\n",
              "      <td>282171.957</td>\n",
              "      <td>9.898700e+06</td>\n",
              "    </tr>\n",
              "    <tr>\n",
              "      <th>Uruguay</th>\n",
              "      <td>3219.793</td>\n",
              "      <td>2.525596e+04</td>\n",
              "    </tr>\n",
              "  </tbody>\n",
              "</table>\n",
              "</div>"
            ],
            "text/plain": [
              "                       POP         tcgdp\n",
              "country                                 \n",
              "Argentina        37335.653  2.950722e+05\n",
              "Australia        19053.186  5.418047e+05\n",
              "India          1006300.297  1.728144e+06\n",
              "Israel            6114.570  1.292539e+05\n",
              "Malawi           11801.505  5.026222e+03\n",
              "South Africa     45064.098  2.272424e+05\n",
              "United States   282171.957  9.898700e+06\n",
              "Uruguay           3219.793  2.525596e+04"
            ]
          },
          "metadata": {
            "tags": []
          },
          "execution_count": 26
        }
      ]
    },
    {
      "cell_type": "markdown",
      "metadata": {
        "id": "eZFw9A2LJQJJ"
      },
      "source": [
        "set_index를 이용하여, country를 index로 지정하였습니다.   \n",
        "   \n",
        "https://pandas.pydata.org/pandas-docs/stable/reference/api/pandas.DataFrame.set_index.html"
      ]
    },
    {
      "cell_type": "code",
      "metadata": {
        "id": "TKX7JHbFKkjH",
        "outputId": "ee89af8c-a0de-470f-f6ef-29cc5cc41e41",
        "colab": {
          "base_uri": "https://localhost:8080/",
          "height": 328
        }
      },
      "source": [
        "df.columns = 'population', 'total GDP'\n",
        "df"
      ],
      "execution_count": 27,
      "outputs": [
        {
          "output_type": "execute_result",
          "data": {
            "text/html": [
              "<div>\n",
              "<style scoped>\n",
              "    .dataframe tbody tr th:only-of-type {\n",
              "        vertical-align: middle;\n",
              "    }\n",
              "\n",
              "    .dataframe tbody tr th {\n",
              "        vertical-align: top;\n",
              "    }\n",
              "\n",
              "    .dataframe thead th {\n",
              "        text-align: right;\n",
              "    }\n",
              "</style>\n",
              "<table border=\"1\" class=\"dataframe\">\n",
              "  <thead>\n",
              "    <tr style=\"text-align: right;\">\n",
              "      <th></th>\n",
              "      <th>population</th>\n",
              "      <th>total GDP</th>\n",
              "    </tr>\n",
              "    <tr>\n",
              "      <th>country</th>\n",
              "      <th></th>\n",
              "      <th></th>\n",
              "    </tr>\n",
              "  </thead>\n",
              "  <tbody>\n",
              "    <tr>\n",
              "      <th>Argentina</th>\n",
              "      <td>37335.653</td>\n",
              "      <td>2.950722e+05</td>\n",
              "    </tr>\n",
              "    <tr>\n",
              "      <th>Australia</th>\n",
              "      <td>19053.186</td>\n",
              "      <td>5.418047e+05</td>\n",
              "    </tr>\n",
              "    <tr>\n",
              "      <th>India</th>\n",
              "      <td>1006300.297</td>\n",
              "      <td>1.728144e+06</td>\n",
              "    </tr>\n",
              "    <tr>\n",
              "      <th>Israel</th>\n",
              "      <td>6114.570</td>\n",
              "      <td>1.292539e+05</td>\n",
              "    </tr>\n",
              "    <tr>\n",
              "      <th>Malawi</th>\n",
              "      <td>11801.505</td>\n",
              "      <td>5.026222e+03</td>\n",
              "    </tr>\n",
              "    <tr>\n",
              "      <th>South Africa</th>\n",
              "      <td>45064.098</td>\n",
              "      <td>2.272424e+05</td>\n",
              "    </tr>\n",
              "    <tr>\n",
              "      <th>United States</th>\n",
              "      <td>282171.957</td>\n",
              "      <td>9.898700e+06</td>\n",
              "    </tr>\n",
              "    <tr>\n",
              "      <th>Uruguay</th>\n",
              "      <td>3219.793</td>\n",
              "      <td>2.525596e+04</td>\n",
              "    </tr>\n",
              "  </tbody>\n",
              "</table>\n",
              "</div>"
            ],
            "text/plain": [
              "                population     total GDP\n",
              "country                                 \n",
              "Argentina        37335.653  2.950722e+05\n",
              "Australia        19053.186  5.418047e+05\n",
              "India          1006300.297  1.728144e+06\n",
              "Israel            6114.570  1.292539e+05\n",
              "Malawi           11801.505  5.026222e+03\n",
              "South Africa     45064.098  2.272424e+05\n",
              "United States   282171.957  9.898700e+06\n",
              "Uruguay           3219.793  2.525596e+04"
            ]
          },
          "metadata": {
            "tags": []
          },
          "execution_count": 27
        }
      ]
    },
    {
      "cell_type": "markdown",
      "metadata": {
        "id": "UCjpvlidKwsR"
      },
      "source": [
        "dataframe의 column 명을 새로 지어 주었습니다.   \n",
        "기존의 csv 파일에서 가져오는 column 명이 마음에 들지 않는 경우, 위처럼 수정할 수 있습니다.   \n",
        "\n",
        "다음으로는, 위 표에서 인구수의 단위가 천 명이므로, 1000을 곱해 줍니다."
      ]
    },
    {
      "cell_type": "code",
      "metadata": {
        "id": "-DFPZfP8LNfp",
        "outputId": "783d85e2-9e41-4463-ca67-d9be6b5f834d",
        "colab": {
          "base_uri": "https://localhost:8080/",
          "height": 328
        }
      },
      "source": [
        "df['population'] = df['population'] * 1e3\n",
        "df"
      ],
      "execution_count": 28,
      "outputs": [
        {
          "output_type": "execute_result",
          "data": {
            "text/html": [
              "<div>\n",
              "<style scoped>\n",
              "    .dataframe tbody tr th:only-of-type {\n",
              "        vertical-align: middle;\n",
              "    }\n",
              "\n",
              "    .dataframe tbody tr th {\n",
              "        vertical-align: top;\n",
              "    }\n",
              "\n",
              "    .dataframe thead th {\n",
              "        text-align: right;\n",
              "    }\n",
              "</style>\n",
              "<table border=\"1\" class=\"dataframe\">\n",
              "  <thead>\n",
              "    <tr style=\"text-align: right;\">\n",
              "      <th></th>\n",
              "      <th>population</th>\n",
              "      <th>total GDP</th>\n",
              "    </tr>\n",
              "    <tr>\n",
              "      <th>country</th>\n",
              "      <th></th>\n",
              "      <th></th>\n",
              "    </tr>\n",
              "  </thead>\n",
              "  <tbody>\n",
              "    <tr>\n",
              "      <th>Argentina</th>\n",
              "      <td>3.733565e+07</td>\n",
              "      <td>2.950722e+05</td>\n",
              "    </tr>\n",
              "    <tr>\n",
              "      <th>Australia</th>\n",
              "      <td>1.905319e+07</td>\n",
              "      <td>5.418047e+05</td>\n",
              "    </tr>\n",
              "    <tr>\n",
              "      <th>India</th>\n",
              "      <td>1.006300e+09</td>\n",
              "      <td>1.728144e+06</td>\n",
              "    </tr>\n",
              "    <tr>\n",
              "      <th>Israel</th>\n",
              "      <td>6.114570e+06</td>\n",
              "      <td>1.292539e+05</td>\n",
              "    </tr>\n",
              "    <tr>\n",
              "      <th>Malawi</th>\n",
              "      <td>1.180150e+07</td>\n",
              "      <td>5.026222e+03</td>\n",
              "    </tr>\n",
              "    <tr>\n",
              "      <th>South Africa</th>\n",
              "      <td>4.506410e+07</td>\n",
              "      <td>2.272424e+05</td>\n",
              "    </tr>\n",
              "    <tr>\n",
              "      <th>United States</th>\n",
              "      <td>2.821720e+08</td>\n",
              "      <td>9.898700e+06</td>\n",
              "    </tr>\n",
              "    <tr>\n",
              "      <th>Uruguay</th>\n",
              "      <td>3.219793e+06</td>\n",
              "      <td>2.525596e+04</td>\n",
              "    </tr>\n",
              "  </tbody>\n",
              "</table>\n",
              "</div>"
            ],
            "text/plain": [
              "                 population     total GDP\n",
              "country                                  \n",
              "Argentina      3.733565e+07  2.950722e+05\n",
              "Australia      1.905319e+07  5.418047e+05\n",
              "India          1.006300e+09  1.728144e+06\n",
              "Israel         6.114570e+06  1.292539e+05\n",
              "Malawi         1.180150e+07  5.026222e+03\n",
              "South Africa   4.506410e+07  2.272424e+05\n",
              "United States  2.821720e+08  9.898700e+06\n",
              "Uruguay        3.219793e+06  2.525596e+04"
            ]
          },
          "metadata": {
            "tags": []
          },
          "execution_count": 28
        }
      ]
    },
    {
      "cell_type": "markdown",
      "metadata": {
        "id": "7nHDl6JxLX5E"
      },
      "source": [
        "그 다음, GDP per capita라는 column을 추가해 보도록 하겠습니다.   \n",
        "이를 위해서는 새로운 column을 만들어야 합니다. "
      ]
    },
    {
      "cell_type": "code",
      "metadata": {
        "id": "J2l5Au6RM8rr",
        "outputId": "d233eda7-b4a1-4296-b714-c5db2d1b5ba4",
        "colab": {
          "base_uri": "https://localhost:8080/",
          "height": 328
        }
      },
      "source": [
        "df['GDP percap'] = df['total GDP'] * 1e6 / df['population']\n",
        "df"
      ],
      "execution_count": 29,
      "outputs": [
        {
          "output_type": "execute_result",
          "data": {
            "text/html": [
              "<div>\n",
              "<style scoped>\n",
              "    .dataframe tbody tr th:only-of-type {\n",
              "        vertical-align: middle;\n",
              "    }\n",
              "\n",
              "    .dataframe tbody tr th {\n",
              "        vertical-align: top;\n",
              "    }\n",
              "\n",
              "    .dataframe thead th {\n",
              "        text-align: right;\n",
              "    }\n",
              "</style>\n",
              "<table border=\"1\" class=\"dataframe\">\n",
              "  <thead>\n",
              "    <tr style=\"text-align: right;\">\n",
              "      <th></th>\n",
              "      <th>population</th>\n",
              "      <th>total GDP</th>\n",
              "      <th>GDP percap</th>\n",
              "    </tr>\n",
              "    <tr>\n",
              "      <th>country</th>\n",
              "      <th></th>\n",
              "      <th></th>\n",
              "      <th></th>\n",
              "    </tr>\n",
              "  </thead>\n",
              "  <tbody>\n",
              "    <tr>\n",
              "      <th>Argentina</th>\n",
              "      <td>3.733565e+07</td>\n",
              "      <td>2.950722e+05</td>\n",
              "      <td>7903.229085</td>\n",
              "    </tr>\n",
              "    <tr>\n",
              "      <th>Australia</th>\n",
              "      <td>1.905319e+07</td>\n",
              "      <td>5.418047e+05</td>\n",
              "      <td>28436.433261</td>\n",
              "    </tr>\n",
              "    <tr>\n",
              "      <th>India</th>\n",
              "      <td>1.006300e+09</td>\n",
              "      <td>1.728144e+06</td>\n",
              "      <td>1717.324719</td>\n",
              "    </tr>\n",
              "    <tr>\n",
              "      <th>Israel</th>\n",
              "      <td>6.114570e+06</td>\n",
              "      <td>1.292539e+05</td>\n",
              "      <td>21138.672749</td>\n",
              "    </tr>\n",
              "    <tr>\n",
              "      <th>Malawi</th>\n",
              "      <td>1.180150e+07</td>\n",
              "      <td>5.026222e+03</td>\n",
              "      <td>425.896679</td>\n",
              "    </tr>\n",
              "    <tr>\n",
              "      <th>South Africa</th>\n",
              "      <td>4.506410e+07</td>\n",
              "      <td>2.272424e+05</td>\n",
              "      <td>5042.647686</td>\n",
              "    </tr>\n",
              "    <tr>\n",
              "      <th>United States</th>\n",
              "      <td>2.821720e+08</td>\n",
              "      <td>9.898700e+06</td>\n",
              "      <td>35080.381854</td>\n",
              "    </tr>\n",
              "    <tr>\n",
              "      <th>Uruguay</th>\n",
              "      <td>3.219793e+06</td>\n",
              "      <td>2.525596e+04</td>\n",
              "      <td>7843.970620</td>\n",
              "    </tr>\n",
              "  </tbody>\n",
              "</table>\n",
              "</div>"
            ],
            "text/plain": [
              "                 population     total GDP    GDP percap\n",
              "country                                                \n",
              "Argentina      3.733565e+07  2.950722e+05   7903.229085\n",
              "Australia      1.905319e+07  5.418047e+05  28436.433261\n",
              "India          1.006300e+09  1.728144e+06   1717.324719\n",
              "Israel         6.114570e+06  1.292539e+05  21138.672749\n",
              "Malawi         1.180150e+07  5.026222e+03    425.896679\n",
              "South Africa   4.506410e+07  2.272424e+05   5042.647686\n",
              "United States  2.821720e+08  9.898700e+06  35080.381854\n",
              "Uruguay        3.219793e+06  2.525596e+04   7843.970620"
            ]
          },
          "metadata": {
            "tags": []
          },
          "execution_count": 29
        }
      ]
    },
    {
      "cell_type": "markdown",
      "metadata": {
        "id": "FvIw5PxBOVFL"
      },
      "source": [
        "또 다른 pandas의 series와 dataframe의 장점은, Matplotlib을 통해 자료를 그래프화 및 시각화할 수 있다는 점입니다.   \n",
        "https://pandas.pydata.org/pandas-docs/stable/reference/api/pandas.DataFrame.plot.html"
      ]
    },
    {
      "cell_type": "code",
      "metadata": {
        "id": "a2Z5eeZrOnnv"
      },
      "source": [
        "import matplotlib.pyplot as plt\n",
        "%matplotlib inline"
      ],
      "execution_count": 30,
      "outputs": []
    },
    {
      "cell_type": "code",
      "metadata": {
        "id": "5AHYe31FOzHS",
        "outputId": "b72f523e-0ecc-4398-b1d4-e2bd8a10f895",
        "colab": {
          "base_uri": "https://localhost:8080/",
          "height": 337
        }
      },
      "source": [
        "df['GDP percap'].plot(kind='bar')\n",
        "plt.show()"
      ],
      "execution_count": 31,
      "outputs": [
        {
          "output_type": "display_data",
          "data": {
            "image/png": "[encoded data removed]",
            "text/plain": [
              "<Figure size 432x288 with 1 Axes>"
            ]
          },
          "metadata": {
            "tags": [],
            "needs_background": "light"
          }
        }
      ]
    },
    {
      "cell_type": "markdown",
      "metadata": {
        "id": "wvIc60KUPU1r"
      },
      "source": [
        "다음으로, 위 표에서의 자료 순서를 바꿔 봅시다."
      ]
    },
    {
      "cell_type": "code",
      "metadata": {
        "id": "lcdls0v1PfV0",
        "outputId": "07794dd3-5b48-4892-e50d-def9b9ba410a",
        "colab": {
          "base_uri": "https://localhost:8080/",
          "height": 328
        }
      },
      "source": [
        "df = df.sort_values(by='GDP percap', ascending = False)\n",
        "df"
      ],
      "execution_count": 33,
      "outputs": [
        {
          "output_type": "execute_result",
          "data": {
            "text/html": [
              "<div>\n",
              "<style scoped>\n",
              "    .dataframe tbody tr th:only-of-type {\n",
              "        vertical-align: middle;\n",
              "    }\n",
              "\n",
              "    .dataframe tbody tr th {\n",
              "        vertical-align: top;\n",
              "    }\n",
              "\n",
              "    .dataframe thead th {\n",
              "        text-align: right;\n",
              "    }\n",
              "</style>\n",
              "<table border=\"1\" class=\"dataframe\">\n",
              "  <thead>\n",
              "    <tr style=\"text-align: right;\">\n",
              "      <th></th>\n",
              "      <th>population</th>\n",
              "      <th>total GDP</th>\n",
              "      <th>GDP percap</th>\n",
              "    </tr>\n",
              "    <tr>\n",
              "      <th>country</th>\n",
              "      <th></th>\n",
              "      <th></th>\n",
              "      <th></th>\n",
              "    </tr>\n",
              "  </thead>\n",
              "  <tbody>\n",
              "    <tr>\n",
              "      <th>United States</th>\n",
              "      <td>2.821720e+08</td>\n",
              "      <td>9.898700e+06</td>\n",
              "      <td>35080.381854</td>\n",
              "    </tr>\n",
              "    <tr>\n",
              "      <th>Australia</th>\n",
              "      <td>1.905319e+07</td>\n",
              "      <td>5.418047e+05</td>\n",
              "      <td>28436.433261</td>\n",
              "    </tr>\n",
              "    <tr>\n",
              "      <th>Israel</th>\n",
              "      <td>6.114570e+06</td>\n",
              "      <td>1.292539e+05</td>\n",
              "      <td>21138.672749</td>\n",
              "    </tr>\n",
              "    <tr>\n",
              "      <th>Argentina</th>\n",
              "      <td>3.733565e+07</td>\n",
              "      <td>2.950722e+05</td>\n",
              "      <td>7903.229085</td>\n",
              "    </tr>\n",
              "    <tr>\n",
              "      <th>Uruguay</th>\n",
              "      <td>3.219793e+06</td>\n",
              "      <td>2.525596e+04</td>\n",
              "      <td>7843.970620</td>\n",
              "    </tr>\n",
              "    <tr>\n",
              "      <th>South Africa</th>\n",
              "      <td>4.506410e+07</td>\n",
              "      <td>2.272424e+05</td>\n",
              "      <td>5042.647686</td>\n",
              "    </tr>\n",
              "    <tr>\n",
              "      <th>India</th>\n",
              "      <td>1.006300e+09</td>\n",
              "      <td>1.728144e+06</td>\n",
              "      <td>1717.324719</td>\n",
              "    </tr>\n",
              "    <tr>\n",
              "      <th>Malawi</th>\n",
              "      <td>1.180150e+07</td>\n",
              "      <td>5.026222e+03</td>\n",
              "      <td>425.896679</td>\n",
              "    </tr>\n",
              "  </tbody>\n",
              "</table>\n",
              "</div>"
            ],
            "text/plain": [
              "                 population     total GDP    GDP percap\n",
              "country                                                \n",
              "United States  2.821720e+08  9.898700e+06  35080.381854\n",
              "Australia      1.905319e+07  5.418047e+05  28436.433261\n",
              "Israel         6.114570e+06  1.292539e+05  21138.672749\n",
              "Argentina      3.733565e+07  2.950722e+05   7903.229085\n",
              "Uruguay        3.219793e+06  2.525596e+04   7843.970620\n",
              "South Africa   4.506410e+07  2.272424e+05   5042.647686\n",
              "India          1.006300e+09  1.728144e+06   1717.324719\n",
              "Malawi         1.180150e+07  5.026222e+03    425.896679"
            ]
          },
          "metadata": {
            "tags": []
          },
          "execution_count": 33
        }
      ]
    },
    {
      "cell_type": "markdown",
      "metadata": {
        "id": "Ggvu_zHTPt_w"
      },
      "source": [
        "GDP per capita의 값을, 내림차순으로 (큰 수부터 작은 수 방향으로) 정렬되었음을 확인할 수 있습니다.   \n",
        "이를 다시 막대그래프로 나타내 봅시다."
      ]
    },
    {
      "cell_type": "code",
      "metadata": {
        "id": "r309vzoOP8yE",
        "outputId": "e4d3f935-373a-452c-ae17-6d2a93600ba7",
        "colab": {
          "base_uri": "https://localhost:8080/",
          "height": 337
        }
      },
      "source": [
        "df['GDP percap'].plot(kind='bar')\n",
        "plt.show()"
      ],
      "execution_count": 34,
      "outputs": [
        {
          "output_type": "display_data",
          "data": {
            "image/png": "[encoded data removed]",
            "text/plain": [
              "<Figure size 432x288 with 1 Axes>"
            ]
          },
          "metadata": {
            "tags": [],
            "needs_background": "light"
          }
        }
      ]
    },
    {
      "cell_type": "markdown",
      "metadata": {
        "id": "ozs5w8XYQRmi"
      },
      "source": [
        "그래프가 정렬되어 출력되는 것을 확인할 수 있습니다."
      ]
    },
    {
      "cell_type": "markdown",
      "metadata": {
        "id": "PWpUh0IQQosc"
      },
      "source": [
        "#requests 를 이용하여 데이터에 접근하기\n",
        "Python의 표준 라이브러리를 이용하면, 인터넷에서 데이터를 가져올 수 있습니다.   \n",
        "   \n",
        "https://requests.readthedocs.io/en/master/"
      ]
    },
    {
      "cell_type": "code",
      "metadata": {
        "id": "vr0ujzvAR1SO"
      },
      "source": [
        "import requests\n",
        "r = requests.get('http://research.stlouisfed.org/fred2/series/UNRATE/downloaddata/UNRATE.csv')"
      ],
      "execution_count": 35,
      "outputs": []
    },
    {
      "cell_type": "markdown",
      "metadata": {
        "id": "GJoHmACDSYK6"
      },
      "source": [
        "가져온 자료는 미국의 실업률 통계입니다 (US civilian unemplyment rate)"
      ]
    },
    {
      "cell_type": "code",
      "metadata": {
        "id": "G5fntX7LSrBQ"
      },
      "source": [
        "url = 'http://research.stlouisfed.org/fred2/series/UNRATE/downloaddata/UNRATE.csv'\n",
        "source = requests.get(url).content.decode().split(\"\\n\")"
      ],
      "execution_count": 36,
      "outputs": []
    },
    {
      "cell_type": "code",
      "metadata": {
        "id": "dU63sxVWS_Vf",
        "outputId": "33adf6b3-bc45-464f-e2a0-664bd5e250cb",
        "colab": {
          "base_uri": "https://localhost:8080/",
          "height": 37
        }
      },
      "source": [
        "source[0]"
      ],
      "execution_count": 37,
      "outputs": [
        {
          "output_type": "execute_result",
          "data": {
            "application/vnd.google.colaboratory.intrinsic+json": {
              "type": "string"
            },
            "text/plain": [
              "'DATE,VALUE\\r'"
            ]
          },
          "metadata": {
            "tags": []
          },
          "execution_count": 37
        }
      ]
    },
    {
      "cell_type": "code",
      "metadata": {
        "id": "FPlwx3JOTCVr",
        "outputId": "9b02a626-bff5-4dd4-d11b-11c3f8a199dc",
        "colab": {
          "base_uri": "https://localhost:8080/",
          "height": 37
        }
      },
      "source": [
        "source[1]"
      ],
      "execution_count": 38,
      "outputs": [
        {
          "output_type": "execute_result",
          "data": {
            "application/vnd.google.colaboratory.intrinsic+json": {
              "type": "string"
            },
            "text/plain": [
              "'1948-01-01,3.4\\r'"
            ]
          },
          "metadata": {
            "tags": []
          },
          "execution_count": 38
        }
      ]
    },
    {
      "cell_type": "code",
      "metadata": {
        "id": "l6CN7O17TFXI",
        "outputId": "618e55ac-dc51-48c7-91bc-2cfb22bdee5e",
        "colab": {
          "base_uri": "https://localhost:8080/",
          "height": 37
        }
      },
      "source": [
        "source[2]"
      ],
      "execution_count": 39,
      "outputs": [
        {
          "output_type": "execute_result",
          "data": {
            "application/vnd.google.colaboratory.intrinsic+json": {
              "type": "string"
            },
            "text/plain": [
              "'1948-02-01,3.8\\r'"
            ]
          },
          "metadata": {
            "tags": []
          },
          "execution_count": 39
        }
      ]
    },
    {
      "cell_type": "markdown",
      "metadata": {
        "id": "9GE8XbUWTMPN"
      },
      "source": [
        "성공적으로 데이터를 가져온 것을 확인할 수 있으며, 각 인자를 접근할 수 있는 것도 확인하였습니다.   \n",
        "출력한 것은 날짜 column이네요.   \n",
        "   \n",
        "위 자료를 적당히 잘라서 array에 저장할 코드를 작성 할 수도 있지만,   \n",
        "pandas의 read_csv를 이용하면 이러한 일들을 훨씬 간단하게 처리할 수 있습니다.\n",
        "'parse_dates=True' 를 사용해 봅시다."
      ]
    },
    {
      "cell_type": "code",
      "metadata": {
        "id": "G8fxnkiXT0RI"
      },
      "source": [
        "data = pd.read_csv(url, index_col = 0, parse_dates = True)"
      ],
      "execution_count": 40,
      "outputs": []
    },
    {
      "cell_type": "markdown",
      "metadata": {
        "id": "0Gb1_gTcUT-m"
      },
      "source": [
        "위처럼 데이터를 가져오고 나면, 앞에서 했듯 pandas를 이용하여 데이터를 원하는 대로 다룰 수 있습니다."
      ]
    },
    {
      "cell_type": "code",
      "metadata": {
        "id": "FZ6Apk6SUejV",
        "outputId": "9cff16bf-25ed-47c4-aba5-03f658c82e7d",
        "colab": {
          "base_uri": "https://localhost:8080/",
          "height": 34
        }
      },
      "source": [
        "type(data)"
      ],
      "execution_count": 41,
      "outputs": [
        {
          "output_type": "execute_result",
          "data": {
            "text/plain": [
              "pandas.core.frame.DataFrame"
            ]
          },
          "metadata": {
            "tags": []
          },
          "execution_count": 41
        }
      ]
    },
    {
      "cell_type": "markdown",
      "metadata": {
        "id": "Px7z7w_JUiZp"
      },
      "source": [
        "pandas의 DataFrame 형식임을 확인할 수 있습니다."
      ]
    },
    {
      "cell_type": "code",
      "metadata": {
        "id": "mEZSiml4Uoej",
        "outputId": "5a616618-915f-4a0e-84ba-221ecc3a13e3",
        "colab": {
          "base_uri": "https://localhost:8080/",
          "height": 235
        }
      },
      "source": [
        "data.head() #자료의 첫 5개 항목을 보여줍니다. dataframe을 잠깐 훑어보기 좋은 방법."
      ],
      "execution_count": 42,
      "outputs": [
        {
          "output_type": "execute_result",
          "data": {
            "text/html": [
              "<div>\n",
              "<style scoped>\n",
              "    .dataframe tbody tr th:only-of-type {\n",
              "        vertical-align: middle;\n",
              "    }\n",
              "\n",
              "    .dataframe tbody tr th {\n",
              "        vertical-align: top;\n",
              "    }\n",
              "\n",
              "    .dataframe thead th {\n",
              "        text-align: right;\n",
              "    }\n",
              "</style>\n",
              "<table border=\"1\" class=\"dataframe\">\n",
              "  <thead>\n",
              "    <tr style=\"text-align: right;\">\n",
              "      <th></th>\n",
              "      <th>VALUE</th>\n",
              "    </tr>\n",
              "    <tr>\n",
              "      <th>DATE</th>\n",
              "      <th></th>\n",
              "    </tr>\n",
              "  </thead>\n",
              "  <tbody>\n",
              "    <tr>\n",
              "      <th>1948-01-01</th>\n",
              "      <td>3.4</td>\n",
              "    </tr>\n",
              "    <tr>\n",
              "      <th>1948-02-01</th>\n",
              "      <td>3.8</td>\n",
              "    </tr>\n",
              "    <tr>\n",
              "      <th>1948-03-01</th>\n",
              "      <td>4.0</td>\n",
              "    </tr>\n",
              "    <tr>\n",
              "      <th>1948-04-01</th>\n",
              "      <td>3.9</td>\n",
              "    </tr>\n",
              "    <tr>\n",
              "      <th>1948-05-01</th>\n",
              "      <td>3.5</td>\n",
              "    </tr>\n",
              "  </tbody>\n",
              "</table>\n",
              "</div>"
            ],
            "text/plain": [
              "            VALUE\n",
              "DATE             \n",
              "1948-01-01    3.4\n",
              "1948-02-01    3.8\n",
              "1948-03-01    4.0\n",
              "1948-04-01    3.9\n",
              "1948-05-01    3.5"
            ]
          },
          "metadata": {
            "tags": []
          },
          "execution_count": 42
        }
      ]
    },
    {
      "cell_type": "code",
      "metadata": {
        "id": "NvfOMv7nU1KR",
        "outputId": "336d86d7-945f-454d-9025-ad2b8a3fd9af",
        "colab": {
          "base_uri": "https://localhost:8080/",
          "height": 297
        }
      },
      "source": [
        "pd.set_option('precision', 1)\n",
        "data.describe()"
      ],
      "execution_count": 43,
      "outputs": [
        {
          "output_type": "execute_result",
          "data": {
            "text/html": [
              "<div>\n",
              "<style scoped>\n",
              "    .dataframe tbody tr th:only-of-type {\n",
              "        vertical-align: middle;\n",
              "    }\n",
              "\n",
              "    .dataframe tbody tr th {\n",
              "        vertical-align: top;\n",
              "    }\n",
              "\n",
              "    .dataframe thead th {\n",
              "        text-align: right;\n",
              "    }\n",
              "</style>\n",
              "<table border=\"1\" class=\"dataframe\">\n",
              "  <thead>\n",
              "    <tr style=\"text-align: right;\">\n",
              "      <th></th>\n",
              "      <th>VALUE</th>\n",
              "    </tr>\n",
              "  </thead>\n",
              "  <tbody>\n",
              "    <tr>\n",
              "      <th>count</th>\n",
              "      <td>873.0</td>\n",
              "    </tr>\n",
              "    <tr>\n",
              "      <th>mean</th>\n",
              "      <td>5.8</td>\n",
              "    </tr>\n",
              "    <tr>\n",
              "      <th>std</th>\n",
              "      <td>1.7</td>\n",
              "    </tr>\n",
              "    <tr>\n",
              "      <th>min</th>\n",
              "      <td>2.5</td>\n",
              "    </tr>\n",
              "    <tr>\n",
              "      <th>25%</th>\n",
              "      <td>4.5</td>\n",
              "    </tr>\n",
              "    <tr>\n",
              "      <th>50%</th>\n",
              "      <td>5.6</td>\n",
              "    </tr>\n",
              "    <tr>\n",
              "      <th>75%</th>\n",
              "      <td>6.8</td>\n",
              "    </tr>\n",
              "    <tr>\n",
              "      <th>max</th>\n",
              "      <td>14.7</td>\n",
              "    </tr>\n",
              "  </tbody>\n",
              "</table>\n",
              "</div>"
            ],
            "text/plain": [
              "       VALUE\n",
              "count  873.0\n",
              "mean     5.8\n",
              "std      1.7\n",
              "min      2.5\n",
              "25%      4.5\n",
              "50%      5.6\n",
              "75%      6.8\n",
              "max     14.7"
            ]
          },
          "metadata": {
            "tags": []
          },
          "execution_count": 43
        }
      ]
    },
    {
      "cell_type": "markdown",
      "metadata": {
        "id": "Kuf-D36IU54e"
      },
      "source": [
        "아까와 같이 describe를 이용하여 datafrme의 통계를 확인합니다."
      ]
    },
    {
      "cell_type": "code",
      "metadata": {
        "id": "YJ1aG6bSVBvt",
        "outputId": "6f9a73dc-6219-41a3-9688-632eef6f206a",
        "colab": {
          "base_uri": "https://localhost:8080/",
          "height": 279
        }
      },
      "source": [
        "data['2006':'2012'].plot()\n",
        "plt.show()"
      ],
      "execution_count": 44,
      "outputs": [
        {
          "output_type": "display_data",
          "data": {
            "image/png": "[encoded data removed]",
            "text/plain": [
              "<Figure size 432x288 with 1 Axes>"
            ]
          },
          "metadata": {
            "tags": [],
            "needs_background": "light"
          }
        }
      ]
    },
    {
      "cell_type": "code",
      "metadata": {
        "id": "BjxvuVfYVK86",
        "outputId": "cf615a8d-3823-40fe-b0da-1b9bd9478cd4",
        "colab": {
          "base_uri": "https://localhost:8080/",
          "height": 279
        }
      },
      "source": [
        "data['2006':'2019'].plot()\n",
        "plt.show()"
      ],
      "execution_count": 45,
      "outputs": [
        {
          "output_type": "display_data",
          "data": {
            "image/png": "[encoded data removed]",
            "text/plain": [
              "<Figure size 432x288 with 1 Axes>"
            ]
          },
          "metadata": {
            "tags": [],
            "needs_background": "light"
          }
        }
      ]
    },
    {
      "cell_type": "markdown",
      "metadata": {
        "id": "BccWLd79VOKs"
      },
      "source": [
        "자료를 원하는 대로 그래프로 나타낼 수도 있습니다."
      ]
    },
    {
      "cell_type": "markdown",
      "metadata": {
        "id": "GfoE1R29VXG5"
      },
      "source": [
        "이 외에, 데이터셋을 합치는 (merging data sets) 등, pandas로 할 수 있는 더 많은 것들이 있습니다."
      ]
    }
  ]
}
