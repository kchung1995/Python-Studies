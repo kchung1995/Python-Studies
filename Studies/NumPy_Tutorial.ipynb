{
  "nbformat": 4,
  "nbformat_minor": 0,
  "metadata": {
    "colab": {
      "name": "NumPy Tutorial.ipynb",
      "provenance": [],
      "collapsed_sections": []
    },
    "kernelspec": {
      "name": "python3",
      "display_name": "Python 3"
    }
  },
  "cells": [
    {
      "cell_type": "markdown",
      "metadata": {
        "id": "XPBct8RVe0KL"
      },
      "source": [
        "#NumPy Practise\n",
        "NumPy에 대해서 공부하며 기록하기 위하여  작성하였습니다.   \n",
        "영상은 https://youtu.be/xECXZ3tyONo 에서 참고했습니다 (영어).\n"
      ]
    },
    {
      "cell_type": "markdown",
      "metadata": {
        "id": "_vO7voXIhwfR"
      },
      "source": [
        "#NumPy?\n",
        "NumPy는 data science, machine learning 등을 하고 싶다면 필수적으로 알아야 할 파이썬 라이브러리입니다. 수를 다루는 라이브러리로, 파이썬에서 가장 강력한 라이브러리 중 하나입니다.       \n",
        "가장 큰 특징으로는 빠르다는 것입니다. 엄청난 양의 수를 훨씬 빠르게 다룰 수 있습니다. 또, 효과적인 기능들도 많고요."
      ]
    },
    {
      "cell_type": "markdown",
      "metadata": {
        "id": "ox5K2hM8hthN"
      },
      "source": [
        "#Import\n",
        "NumPy 는 아래와 같이 import 합니다.   \n",
        "import numpy 만으로도 사용할 수 있지만, 파이썬 관행상 as np와 같이 간단하게 두 글자로 줄여서 사용합니다."
      ]
    },
    {
      "cell_type": "code",
      "metadata": {
        "id": "RiXih8dRiL1U"
      },
      "source": [
        "import numpy as np"
      ],
      "execution_count": 1,
      "outputs": []
    },
    {
      "cell_type": "markdown",
      "metadata": {
        "id": "Hot7ismZilHS"
      },
      "source": [
        "#Arrays\n",
        "NumPy에서 array를 선언하는 방법을 다룹니다.\n",
        "np.zeros()를 사용하면, float 형태의 0으로 이루어진 array를 만들며, 그 크기는 괄호 안의 인자와 같습니다."
      ]
    },
    {
      "cell_type": "code",
      "metadata": {
        "id": "VQyYg8ecixtS",
        "outputId": "a8d607c0-01bc-4e8c-9990-890f10ab93d4",
        "colab": {
          "base_uri": "https://localhost:8080/",
          "height": 51
        }
      },
      "source": [
        "a = np.zeros(3)\n",
        "print(a)\n",
        "type(a)\n",
        "type(a[0])"
      ],
      "execution_count": 2,
      "outputs": [
        {
          "output_type": "stream",
          "text": [
            "[0. 0. 0.]\n"
          ],
          "name": "stdout"
        },
        {
          "output_type": "execute_result",
          "data": {
            "text/plain": [
              "numpy.float64"
            ]
          },
          "metadata": {
            "tags": []
          },
          "execution_count": 2
        }
      ]
    },
    {
      "cell_type": "markdown",
      "metadata": {
        "id": "m-ksuYd8kg3i"
      },
      "source": [
        "array 내부의 기본 형태는 float 형임을 확인할 수 있습니다.   \n",
        "zeros를 다음과 같이 활용할 수 있습니다."
      ]
    },
    {
      "cell_type": "code",
      "metadata": {
        "id": "YVBaHNNclemV",
        "outputId": "de6e97fc-60f2-4220-85af-137e983ff713",
        "colab": {
          "base_uri": "https://localhost:8080/",
          "height": 34
        }
      },
      "source": [
        "z = np.zeros(10)\n",
        "z"
      ],
      "execution_count": 3,
      "outputs": [
        {
          "output_type": "execute_result",
          "data": {
            "text/plain": [
              "array([0., 0., 0., 0., 0., 0., 0., 0., 0., 0.])"
            ]
          },
          "metadata": {
            "tags": []
          },
          "execution_count": 3
        }
      ]
    },
    {
      "cell_type": "markdown",
      "metadata": {
        "id": "TK1bzYtnloqF"
      },
      "source": [
        "또, 만들어진 array의 형태를 shape를 통해 자유롭게 바꿀 수 있습니다."
      ]
    },
    {
      "cell_type": "code",
      "metadata": {
        "id": "YtKkuPBolrA4",
        "outputId": "13d1476c-ea5b-43e2-9e9c-f89b9bd97205",
        "colab": {
          "base_uri": "https://localhost:8080/",
          "height": 187
        }
      },
      "source": [
        "z.shape = (10,1)\n",
        "z"
      ],
      "execution_count": 4,
      "outputs": [
        {
          "output_type": "execute_result",
          "data": {
            "text/plain": [
              "array([[0.],\n",
              "       [0.],\n",
              "       [0.],\n",
              "       [0.],\n",
              "       [0.],\n",
              "       [0.],\n",
              "       [0.],\n",
              "       [0.],\n",
              "       [0.],\n",
              "       [0.]])"
            ]
          },
          "metadata": {
            "tags": []
          },
          "execution_count": 4
        }
      ]
    },
    {
      "cell_type": "markdown",
      "metadata": {
        "id": "erqophB6m7n1"
      },
      "source": [
        "ones를 이용하면 모든 element가 1인 array를 생성할 수 있고,   \n",
        "empty를 이용하면 빈 array를 생성할 수 있습니다."
      ]
    },
    {
      "cell_type": "code",
      "metadata": {
        "id": "Sp-TY1rXl4u2",
        "outputId": "f8610a20-3256-4356-f86b-d503a2c886cb",
        "colab": {
          "base_uri": "https://localhost:8080/",
          "height": 51
        }
      },
      "source": [
        "z = np.ones(10)\n",
        "print(z)\n",
        "z = np.empty(3)\n",
        "print(z)"
      ],
      "execution_count": 5,
      "outputs": [
        {
          "output_type": "stream",
          "text": [
            "[1. 1. 1. 1. 1. 1. 1. 1. 1. 1.]\n",
            "[0. 0. 0.]\n"
          ],
          "name": "stdout"
        }
      ]
    },
    {
      "cell_type": "markdown",
      "metadata": {
        "id": "h5ktxzYenCKE"
      },
      "source": [
        "#Linspace\n",
        "linspace는 주어진 숫자의 범위 내에서, 원소의 갯수를 지정하면 자동으로 array를 생성해 줍니다."
      ]
    },
    {
      "cell_type": "code",
      "metadata": {
        "id": "45d5udWnnN8f",
        "outputId": "29f295d1-06f9-485c-a6ce-bd9253e0a13b",
        "colab": {
          "base_uri": "https://localhost:8080/",
          "height": 34
        }
      },
      "source": [
        "z = np.linspace(2,10,5) #from 2 to 10, with 5 elements\n",
        "z"
      ],
      "execution_count": 6,
      "outputs": [
        {
          "output_type": "execute_result",
          "data": {
            "text/plain": [
              "array([ 2.,  4.,  6.,  8., 10.])"
            ]
          },
          "metadata": {
            "tags": []
          },
          "execution_count": 6
        }
      ]
    },
    {
      "cell_type": "markdown",
      "metadata": {
        "id": "K3EoH_MdnUDM"
      },
      "source": [
        "실제로 linspace의 경우, 그래프를 그릴 때 x좌표를 지정하는 등의 용도로 사용하기도 합니다.   \n",
        "마찬가지로, 내부의 elements의 data type는 float입니다."
      ]
    },
    {
      "cell_type": "code",
      "metadata": {
        "id": "Eqquv2cen_OR",
        "outputId": "493eb00c-396a-4d3d-d21d-dcc635118be1",
        "colab": {
          "base_uri": "https://localhost:8080/",
          "height": 34
        }
      },
      "source": [
        "type(z[1])"
      ],
      "execution_count": 7,
      "outputs": [
        {
          "output_type": "execute_result",
          "data": {
            "text/plain": [
              "numpy.float64"
            ]
          },
          "metadata": {
            "tags": []
          },
          "execution_count": 7
        }
      ]
    },
    {
      "cell_type": "markdown",
      "metadata": {
        "id": "v8ncSc49p-m7"
      },
      "source": [
        "#Array (이어서)\n",
        "array를 생성하는 방법을 하나 더 다룹니다."
      ]
    },
    {
      "cell_type": "code",
      "metadata": {
        "id": "wQQr2JaTqOqw",
        "outputId": "76409154-786a-4889-e8ac-021008f8c00f",
        "colab": {
          "base_uri": "https://localhost:8080/",
          "height": 34
        }
      },
      "source": [
        "z = np.array([10,20])\n",
        "z"
      ],
      "execution_count": 8,
      "outputs": [
        {
          "output_type": "execute_result",
          "data": {
            "text/plain": [
              "array([10, 20])"
            ]
          },
          "metadata": {
            "tags": []
          },
          "execution_count": 8
        }
      ]
    },
    {
      "cell_type": "markdown",
      "metadata": {
        "id": "HA90-V77qTYH"
      },
      "source": [
        "고전적인 방법으로, 원하는 element를 직접 넣어서 생성할 수 있습니다."
      ]
    },
    {
      "cell_type": "code",
      "metadata": {
        "id": "LlnUz3mDrMvK",
        "outputId": "4fc0b74f-24ed-407b-f831-70d53b64468a",
        "colab": {
          "base_uri": "https://localhost:8080/",
          "height": 34
        }
      },
      "source": [
        "type(z[1])"
      ],
      "execution_count": 9,
      "outputs": [
        {
          "output_type": "execute_result",
          "data": {
            "text/plain": [
              "numpy.int64"
            ]
          },
          "metadata": {
            "tags": []
          },
          "execution_count": 9
        }
      ]
    },
    {
      "cell_type": "markdown",
      "metadata": {
        "id": "L3rwmFNgrO2h"
      },
      "source": [
        "직접 입력한 array의 element는 integer 형태를 가지네요."
      ]
    },
    {
      "cell_type": "code",
      "metadata": {
        "id": "RSsfsJz3qZCg",
        "outputId": "071f4ee9-d5de-4bbf-a8e7-7ca3bab0d8a0",
        "colab": {
          "base_uri": "https://localhost:8080/",
          "height": 34
        }
      },
      "source": [
        "a_list = [1,2,3,4,5,6,7]\n",
        "z = np.array([a_list])\n",
        "z"
      ],
      "execution_count": 10,
      "outputs": [
        {
          "output_type": "execute_result",
          "data": {
            "text/plain": [
              "array([[1, 2, 3, 4, 5, 6, 7]])"
            ]
          },
          "metadata": {
            "tags": []
          },
          "execution_count": 10
        }
      ]
    },
    {
      "cell_type": "markdown",
      "metadata": {
        "id": "rDG5_4S_qzPL"
      },
      "source": [
        "list를 array에 넣는 것 역시 가능합니다."
      ]
    },
    {
      "cell_type": "code",
      "metadata": {
        "id": "nBABsszNq4AI",
        "outputId": "3c571a6d-8c1f-457d-d107-584721b93034",
        "colab": {
          "base_uri": "https://localhost:8080/",
          "height": 34
        }
      },
      "source": [
        "type(z)"
      ],
      "execution_count": 11,
      "outputs": [
        {
          "output_type": "execute_result",
          "data": {
            "text/plain": [
              "numpy.ndarray"
            ]
          },
          "metadata": {
            "tags": []
          },
          "execution_count": 11
        }
      ]
    },
    {
      "cell_type": "markdown",
      "metadata": {
        "id": "q00_ffVrq7XP"
      },
      "source": [
        "numpy array 형식인 것을 확인할 수 있습니다."
      ]
    },
    {
      "cell_type": "markdown",
      "metadata": {
        "id": "KOd5FwxIrbs0"
      },
      "source": [
        "2차원 list 역시 array 안에 담을 수 있습니다."
      ]
    },
    {
      "cell_type": "code",
      "metadata": {
        "id": "J5V9OVHeriH9",
        "outputId": "dddb1191-57ea-452b-888a-1f9d5110e903",
        "colab": {
          "base_uri": "https://localhost:8080/",
          "height": 51
        }
      },
      "source": [
        "b_list = [[9,8,7,6,5,4,3],[1,2,3,4,5,6,7]]\n",
        "z = np.array([b_list])\n",
        "z"
      ],
      "execution_count": 12,
      "outputs": [
        {
          "output_type": "execute_result",
          "data": {
            "text/plain": [
              "array([[[9, 8, 7, 6, 5, 4, 3],\n",
              "        [1, 2, 3, 4, 5, 6, 7]]])"
            ]
          },
          "metadata": {
            "tags": []
          },
          "execution_count": 12
        }
      ]
    },
    {
      "cell_type": "markdown",
      "metadata": {
        "id": "mEd-K6WSr9iq"
      },
      "source": [
        "이 경우 역시 numpy array 형식인 것을 확인할 수 있습니다."
      ]
    },
    {
      "cell_type": "code",
      "metadata": {
        "id": "qB7Tl_4Vr6Eg",
        "outputId": "6d9b4e57-ca6f-49a5-ed0f-3aa9d6909350",
        "colab": {
          "base_uri": "https://localhost:8080/",
          "height": 34
        }
      },
      "source": [
        "type(z)"
      ],
      "execution_count": 13,
      "outputs": [
        {
          "output_type": "execute_result",
          "data": {
            "text/plain": [
              "numpy.ndarray"
            ]
          },
          "metadata": {
            "tags": []
          },
          "execution_count": 13
        }
      ]
    },
    {
      "cell_type": "markdown",
      "metadata": {
        "id": "rlwNS0IJsicb"
      },
      "source": [
        "논외) jupyter notebook을 사용할 때,   \n",
        "배열 z에 적용할 수 있는 특정 function을 검색하려면\n",
        "z. 이후 tab 버튼을 누르면 볼 수 있습니다. (google colab에서는 동작하지 않습니다)   \n",
        "또, ?z를 입력하면, z에 대한 자세한 document를 볼 수 있습니다."
      ]
    },
    {
      "cell_type": "code",
      "metadata": {
        "id": "bQtMOBr3s775",
        "outputId": "d760ecfa-3a76-4b1b-ab25-4c555c740a05",
        "colab": {
          "base_uri": "https://localhost:8080/",
          "height": 34
        }
      },
      "source": [
        "z.shape"
      ],
      "execution_count": 14,
      "outputs": [
        {
          "output_type": "execute_result",
          "data": {
            "text/plain": [
              "(1, 2, 7)"
            ]
          },
          "metadata": {
            "tags": []
          },
          "execution_count": 14
        }
      ]
    },
    {
      "cell_type": "markdown",
      "metadata": {
        "id": "YutHJ9y0tXM2"
      },
      "source": [
        ""
      ]
    },
    {
      "cell_type": "markdown",
      "metadata": {
        "id": "PTsoX0x4tdpf"
      },
      "source": [
        "#Random\n",
        "array를 random하게 생성할 수 있습니다."
      ]
    },
    {
      "cell_type": "code",
      "metadata": {
        "id": "M5QV8i-vtiFo",
        "outputId": "c1f7f87a-c2f0-437e-c072-0a9029f735d0",
        "colab": {
          "base_uri": "https://localhost:8080/",
          "height": 34
        }
      },
      "source": [
        "np.random.seed(0)\n",
        "z1 = np.random.randint(10, size=6)\n",
        "z1"
      ],
      "execution_count": 15,
      "outputs": [
        {
          "output_type": "execute_result",
          "data": {
            "text/plain": [
              "array([5, 0, 3, 3, 7, 9])"
            ]
          },
          "metadata": {
            "tags": []
          },
          "execution_count": 15
        }
      ]
    },
    {
      "cell_type": "markdown",
      "metadata": {
        "id": "7qXdAVr2t3KD"
      },
      "source": [
        "6개의 원소를 가진, 0~9 범위 이내의 정수형 element를 가지는 array를 생성했습니다."
      ]
    },
    {
      "cell_type": "markdown",
      "metadata": {
        "id": "qZovn77juR1e"
      },
      "source": [
        "array의 element를 다음과 같이 접근할 수 있습니다."
      ]
    },
    {
      "cell_type": "code",
      "metadata": {
        "id": "7lpwiAwyuUoc",
        "outputId": "a5e6c8f3-6683-452e-a631-7437cbedbdab",
        "colab": {
          "base_uri": "https://localhost:8080/",
          "height": 34
        }
      },
      "source": [
        "z1[0]"
      ],
      "execution_count": 16,
      "outputs": [
        {
          "output_type": "execute_result",
          "data": {
            "text/plain": [
              "5"
            ]
          },
          "metadata": {
            "tags": []
          },
          "execution_count": 16
        }
      ]
    },
    {
      "cell_type": "code",
      "metadata": {
        "id": "eICs45jsuYPw",
        "outputId": "aec96059-f05b-4359-91d1-e9cb078a2f7a",
        "colab": {
          "base_uri": "https://localhost:8080/",
          "height": 34
        }
      },
      "source": [
        "z1[0:2]"
      ],
      "execution_count": 17,
      "outputs": [
        {
          "output_type": "execute_result",
          "data": {
            "text/plain": [
              "array([5, 0])"
            ]
          },
          "metadata": {
            "tags": []
          },
          "execution_count": 17
        }
      ]
    },
    {
      "cell_type": "code",
      "metadata": {
        "id": "O-63YxD9ubum",
        "outputId": "a87f93fa-30bf-4829-d70c-ef1150aa35f3",
        "colab": {
          "base_uri": "https://localhost:8080/",
          "height": 34
        }
      },
      "source": [
        "z1[-1]"
      ],
      "execution_count": 18,
      "outputs": [
        {
          "output_type": "execute_result",
          "data": {
            "text/plain": [
              "9"
            ]
          },
          "metadata": {
            "tags": []
          },
          "execution_count": 18
        }
      ]
    },
    {
      "cell_type": "markdown",
      "metadata": {
        "id": "Gy50ymiwufrt"
      },
      "source": [
        "첫 번째는 단순히 n번째 인자를 가리킵니다.   \n",
        "두 번째는 n번째 인자로부터, m까지의 범위를 가리킵니다. 0번째 인자부터 총 2개를 가리키는 예시를 볼 수 있습니다.   \n",
        "세 번째는 -1번째 인자를 가리키는데, error가 나지 않고, 5번째 인자, 즉 뒤에서 첫 번째 인자인 9를 가리키는 것을 볼 수 있습니다.\n",
        "   \n",
        "python의 기본 list와 매우 흡사한 모습을 보임을 알 수 있습니다."
      ]
    },
    {
      "cell_type": "markdown",
      "metadata": {
        "id": "8FeepsttvaAJ"
      },
      "source": [
        "#Photo Example\n",
        "다음으로, 하나의 사진을 가지고 numpy를 이용해서 어떻게 다룰 수 있는지 예시를 들어 보이겠습니다.\n"
      ]
    },
    {
      "cell_type": "code",
      "metadata": {
        "id": "-Z1pe5Devqi3",
        "outputId": "9aaa90eb-0ff2-41fb-a53a-f589ae08d8df",
        "colab": {
          "base_uri": "https://localhost:8080/",
          "height": 34
        }
      },
      "source": [
        "from google.colab import drive\n",
        "drive.mount('/content/gdrive')"
      ],
      "execution_count": 19,
      "outputs": [
        {
          "output_type": "stream",
          "text": [
            "Mounted at /content/gdrive\n"
          ],
          "name": "stdout"
        }
      ]
    },
    {
      "cell_type": "markdown",
      "metadata": {
        "id": "gLbvDKtwzGtB"
      },
      "source": [
        "추가) google colab에서 파일 디렉토리를 사용하려면,    \n",
        "위와 같은 과정이 필요합니다.   \n",
        "자세한 내용은 https://blog.naver.com/anne9/221798711142 를 참고해 주세요.\n",
        "   \n",
        "Google CoLab이 아닌 일반 jupyter notebook에서 실행하시는 경우에는 위 코드는 실행하지 않으시면 됩니다.\n"
      ]
    },
    {
      "cell_type": "code",
      "metadata": {
        "id": "3Vg2ob0ZxQ67",
        "outputId": "86964487-27bd-4418-c49a-c57a77abc72a",
        "colab": {
          "base_uri": "https://localhost:8080/",
          "height": 34
        }
      },
      "source": [
        "from skimage import io\n",
        "photo = io.imread('/content/gdrive/My Drive/light_temple.png')\n",
        "type(photo)"
      ],
      "execution_count": 20,
      "outputs": [
        {
          "output_type": "execute_result",
          "data": {
            "text/plain": [
              "numpy.ndarray"
            ]
          },
          "metadata": {
            "tags": []
          },
          "execution_count": 20
        }
      ]
    },
    {
      "cell_type": "markdown",
      "metadata": {
        "id": "Pd5xk6X-0EYs"
      },
      "source": [
        "skimage 라이브러리를 사용하여 이미지를 가져왔습니다.   \n",
        "이미지 photo의 형태는 numpy array인 것을 확인할 수 있습니다."
      ]
    },
    {
      "cell_type": "code",
      "metadata": {
        "id": "rr8i4DMS0NPc",
        "outputId": "b437a25d-5b5c-4f32-fde9-038fb2ed6c7f",
        "colab": {
          "base_uri": "https://localhost:8080/",
          "height": 34
        }
      },
      "source": [
        "photo.shape"
      ],
      "execution_count": 21,
      "outputs": [
        {
          "output_type": "execute_result",
          "data": {
            "text/plain": [
              "(270, 480, 4)"
            ]
          },
          "metadata": {
            "tags": []
          },
          "execution_count": 21
        }
      ]
    },
    {
      "cell_type": "markdown",
      "metadata": {
        "id": "lO6QLpl10hIe"
      },
      "source": [
        "photo의 크기 역시 확인할 수 있습니다.   \n",
        "(마지막 인수는 잘 모르겠습니다. 참고한 영상에서는 colour image라서 3이라고 하네요.)"
      ]
    },
    {
      "cell_type": "code",
      "metadata": {
        "id": "zfjNAQ3R0wUm"
      },
      "source": [
        "import matplotlib.pyplot as plt\n",
        "plt.imshow(photo)"
      ],
      "execution_count": null,
      "outputs": []
    },
    {
      "cell_type": "markdown",
      "metadata": {
        "id": "Mi4b_NZm05Sl"
      },
      "source": [
        "matplotlib 라이브러리를 이용하여, photo를 출력해 보았습니다."
      ]
    },
    {
      "cell_type": "code",
      "metadata": {
        "id": "SJkgDnM77JcO"
      },
      "source": [
        "plt.imshow(photo[::-1])"
      ],
      "execution_count": null,
      "outputs": []
    },
    {
      "cell_type": "markdown",
      "metadata": {
        "id": "ZyBAzKQf7hP9"
      },
      "source": [
        "row를 반전해 보았습니다. 같은 사진이 상하가 반전된 것을 확인할 수 있습니다."
      ]
    },
    {
      "cell_type": "code",
      "metadata": {
        "id": "aU5pLDrw7oFw"
      },
      "source": [
        "plt.imshow(photo[:,::-1])"
      ],
      "execution_count": null,
      "outputs": []
    },
    {
      "cell_type": "markdown",
      "metadata": {
        "id": "0SzdR_Nj7u0M"
      },
      "source": [
        "이번에는 column을 반전해 보았습니다. 같은 사진이 좌우가 반전되었음을 확인할 수 있습니다."
      ]
    },
    {
      "cell_type": "code",
      "metadata": {
        "id": "pc00D8ws8CJA"
      },
      "source": [
        "plt.imshow(photo[40:150, 100:300])"
      ],
      "execution_count": null,
      "outputs": []
    },
    {
      "cell_type": "markdown",
      "metadata": {
        "id": "ictphPC18V3w"
      },
      "source": [
        "원하는 영역만 지정하여 출력한 결과입니다."
      ]
    },
    {
      "cell_type": "code",
      "metadata": {
        "id": "LMf-dIUV8iAZ"
      },
      "source": [
        "plt.imshow(photo[::2,::2])"
      ],
      "execution_count": null,
      "outputs": []
    },
    {
      "cell_type": "markdown",
      "metadata": {
        "id": "owh9hVgV30fj"
      },
      "source": [
        "이번에는 사진 자체에는 큰 차이가 없어 보이지만, row와 column을 각각 반으로 줄였습니다.   \n",
        "아래의 좌표를 보시면 사진의 크기가 줄어들었음을 확인할 수 있습니다."
      ]
    },
    {
      "cell_type": "markdown",
      "metadata": {
        "id": "7NNJp_Ig8yzN"
      },
      "source": [
        "#Mathematical Operation\n",
        "이 numpy array에 수학적인 연산을 해 보겠습니다."
      ]
    },
    {
      "cell_type": "code",
      "metadata": {
        "id": "d66o93BN9Aw7",
        "outputId": "cf5c5df5-7b1a-4c89-950d-c0ac882823fc",
        "colab": {
          "base_uri": "https://localhost:8080/",
          "height": 850
        }
      },
      "source": [
        "photo\n",
        "photo_sin = np.sin(photo)\n",
        "photo_sin"
      ],
      "execution_count": 28,
      "outputs": [
        {
          "output_type": "execute_result",
          "data": {
            "text/plain": [
              "array([[[ 0.9893 ,  0.657  ,  0.5293 , -0.5063 ],\n",
              "        [ 0.9893 ,  0.657  ,  0.5293 , -0.5063 ],\n",
              "        [ 0.9893 ,  0.657  ,  0.5293 , -0.5063 ],\n",
              "        ...,\n",
              "        [ 0.9893 , -0.2793 ,  1.     , -0.5063 ],\n",
              "        [ 0.9893 ,  0.657  ,  0.5293 , -0.5063 ],\n",
              "        [ 0.9893 ,  0.657  ,  0.5293 , -0.5063 ]],\n",
              "\n",
              "       [[ 0.9893 ,  0.657  , -0.4282 , -0.5063 ],\n",
              "        [ 0.9893 ,  0.657  , -0.4282 , -0.5063 ],\n",
              "        [ 0.9893 ,  0.657  , -0.4282 , -0.5063 ],\n",
              "        ...,\n",
              "        [ 0.9893 , -0.2793 ,  0.5293 , -0.5063 ],\n",
              "        [ 0.9893 , -0.2793 , -0.4282 , -0.5063 ],\n",
              "        [ 0.9893 ,  0.657  , -0.4282 , -0.5063 ]],\n",
              "\n",
              "       [[ 0.9893 ,  0.657  , -0.4282 , -0.5063 ],\n",
              "        [ 0.9893 ,  0.657  , -0.4282 , -0.5063 ],\n",
              "        [ 0.9893 ,  0.657  , -0.4282 , -0.5063 ],\n",
              "        ...,\n",
              "        [ 0.9893 , -0.2793 , -0.4282 , -0.5063 ],\n",
              "        [ 0.9893 , -0.2793 , -0.4282 , -0.5063 ],\n",
              "        [ 0.9893 ,  0.657  , -0.4282 , -0.5063 ]],\n",
              "\n",
              "       ...,\n",
              "\n",
              "       [[-0.00885, -0.2625 , -0.09717, -0.5063 ],\n",
              "        [ 0.8364 , -0.2625 , -0.89   , -0.5063 ],\n",
              "        [ 0.8364 , -0.2625 , -0.89   , -0.5063 ],\n",
              "        ...,\n",
              "        [ 0.8267 ,  0.3796 , -0.9365 , -0.5063 ],\n",
              "        [ 0.8267 , -0.573  ,  0.8774 , -0.5063 ],\n",
              "        [-0.7393 , -0.63   ,  0.4988 , -0.5063 ]],\n",
              "\n",
              "       [[-0.00885, -0.2625 ,  0.785  , -0.5063 ],\n",
              "        [-0.00885, -0.2625 ,  0.785  , -0.5063 ],\n",
              "        [-0.846  , -0.2625 ,  0.785  , -0.5063 ],\n",
              "        ...,\n",
              "        [ 0.8267 ,  0.9834 , -0.2108 , -0.5063 ],\n",
              "        [ 0.92   ,  0.9834 , -0.8013 , -0.5063 ],\n",
              "        [-0.9663 , -0.9937 , -0.9956 , -0.5063 ]],\n",
              "\n",
              "       [[-0.906  , -0.5215 , -0.3713 , -0.5063 ],\n",
              "        [-0.906  , -0.9995 ,  0.5806 , -0.5063 ],\n",
              "        [-0.1323 , -0.5215 ,  0.5806 , -0.5063 ],\n",
              "        ...,\n",
              "        [ 0.8267 , -0.999  ,  0.07074, -0.5063 ],\n",
              "        [ 0.92   , -0.5063 ,  0.07074, -0.5063 ],\n",
              "        [-0.9663 ,  0.7334 , -0.9956 , -0.5063 ]]], dtype=float16)"
            ]
          },
          "metadata": {
            "tags": []
          },
          "execution_count": 28
        }
      ]
    },
    {
      "cell_type": "markdown",
      "metadata": {
        "id": "sV0wk9Si9txY"
      },
      "source": [
        "array의 모든 값에 sin을 취한 모습입니다.   \n",
        "물론 사진의 모든 값에 sin을 취할 일은 잘 없지만, 사진이 아닌 방대한 양의 데이터라고 가정하면 유용하게 사용할 수 있습니다.   \n",
        "혹시나 해서 해봤지만 sin을 취한 photo_sin은 이미지로써 출력이 안됩니다. ㅎㅎ\n"
      ]
    },
    {
      "cell_type": "code",
      "metadata": {
        "id": "468bjdjW-lKl",
        "outputId": "39db7737-83e7-447c-91a0-569f3fa4739c",
        "colab": {
          "base_uri": "https://localhost:8080/",
          "height": 170
        }
      },
      "source": [
        "print(np.sum(photo)) #array의 값의 총합을 구한다.\n",
        "print(np.prod(photo)) #array의 값의 곱을 구한다.\n",
        "print(np.mean(photo)) #array의 mean (평균값)을 구한다.\n",
        "print(np.std(photo)) #array의 standard deviation (표준 편차)를 구한다.\n",
        "print(np.var(photo)) #array의 variance (분산)를 구한다.\n",
        "print(np.min(photo)) #array의 min (최저값)을 구한다.\n",
        "print(np.max(photo)) #array의 max (최대값)을 구한다.\n",
        "print(np.argmin(photo)) #array의 argmin 값을 구한다.\n",
        "print(np.argmax(photo)) #array의 argmax 값을 구한다."
      ],
      "execution_count": 29,
      "outputs": [
        {
          "output_type": "stream",
          "text": [
            "81289218\n",
            "0\n",
            "156.8079050925926\n",
            "89.86236875305897\n",
            "8075.245317910749\n",
            "0\n",
            "255\n",
            "35341\n",
            "3\n"
          ],
          "name": "stdout"
        }
      ]
    },
    {
      "cell_type": "markdown",
      "metadata": {
        "id": "Put4rYDPAG6E"
      },
      "source": [
        "이 외에, 위처럼 다양한 수학적 연산을 할 수 있습니다.   \n",
        "이의 최대 강점은 별다른 loop 등을 이용하지 않고도, 코드 단 한 줄로 방대한 양의 데이터에 대한 연산을 수행할 수 있다는 점입니다."
      ]
    },
    {
      "cell_type": "markdown",
      "metadata": {
        "id": "oe8TP43pAfr-"
      },
      "source": [
        "#Other Operations\n",
        "이 외에도, numpy를 이용하여 array에 다른 연산을 할 수 있습니다."
      ]
    },
    {
      "cell_type": "code",
      "metadata": {
        "id": "F_taL4KhBBPw",
        "outputId": "a4956eb9-090d-4b2f-c352-1639cf2972e5",
        "colab": {
          "base_uri": "https://localhost:8080/",
          "height": 34
        }
      },
      "source": [
        "z = np.array([1,2,3,4,5])\n",
        "z < 3"
      ],
      "execution_count": 30,
      "outputs": [
        {
          "output_type": "execute_result",
          "data": {
            "text/plain": [
              "array([ True,  True, False, False, False])"
            ]
          },
          "metadata": {
            "tags": []
          },
          "execution_count": 30
        }
      ]
    },
    {
      "cell_type": "markdown",
      "metadata": {
        "id": "m0pQ3mpIBIUG"
      },
      "source": [
        "z의 각 element에 대해, 3과 크기를 비교하여 그 결과를 true 혹은 false로 각각 출력합니다."
      ]
    },
    {
      "cell_type": "code",
      "metadata": {
        "id": "csYu0puTBRgF",
        "outputId": "c531d6b3-98af-4202-fc3c-3122146e4ec3",
        "colab": {
          "base_uri": "https://localhost:8080/",
          "height": 34
        }
      },
      "source": [
        "z > 3"
      ],
      "execution_count": 31,
      "outputs": [
        {
          "output_type": "execute_result",
          "data": {
            "text/plain": [
              "array([False, False, False,  True,  True])"
            ]
          },
          "metadata": {
            "tags": []
          },
          "execution_count": 31
        }
      ]
    },
    {
      "cell_type": "markdown",
      "metadata": {
        "id": "oS4c7V4OBUp7"
      },
      "source": [
        "반대 역시 잘 작동하는 것을 확인할 수 있습니다."
      ]
    },
    {
      "cell_type": "code",
      "metadata": {
        "id": "NAOG9-PsBbt5",
        "outputId": "272609d1-9f3f-4918-8a33-b2239f557d94",
        "colab": {
          "base_uri": "https://localhost:8080/",
          "height": 34
        }
      },
      "source": [
        "z[z>3]"
      ],
      "execution_count": 32,
      "outputs": [
        {
          "output_type": "execute_result",
          "data": {
            "text/plain": [
              "array([4, 5])"
            ]
          },
          "metadata": {
            "tags": []
          },
          "execution_count": 32
        }
      ]
    },
    {
      "cell_type": "markdown",
      "metadata": {
        "id": "_SGUWMbQB3EO"
      },
      "source": [
        "array z의 element 중에서, 조건에 맞는 element만 출력합니다.   \n",
        "위의 경우, 3보다 큰 element인 4와 5를 출력하는 것을 알 수 있습니다."
      ]
    },
    {
      "cell_type": "markdown",
      "metadata": {
        "id": "bWKOQcdMCAb8"
      },
      "source": [
        "#Example\n",
        "photo를 이용하여 numpy 연산을 실제로 이용하는 예를 다룹니다."
      ]
    },
    {
      "cell_type": "code",
      "metadata": {
        "id": "zvrFgyFuCED0"
      },
      "source": [
        "photo_masked = np.where(photo > 100,255,0)"
      ],
      "execution_count": 33,
      "outputs": []
    },
    {
      "cell_type": "markdown",
      "metadata": {
        "id": "J6A-J0h1CVg1"
      },
      "source": [
        "photo에서,\n",
        "\n",
        "*   100보다 큰 element를,\n",
        "*   255의 값을 대입하며,\n",
        "*   그렇지 않은 element는 값을 0으로 대체합니다.   \n",
        "\n",
        "\n",
        "\n"
      ]
    },
    {
      "cell_type": "code",
      "metadata": {
        "id": "U6ZiPQw-CpIh"
      },
      "source": [
        "plt.imshow(photo_masked)"
      ],
      "execution_count": null,
      "outputs": []
    },
    {
      "cell_type": "markdown",
      "metadata": {
        "id": "HJW16LxvCyLr"
      },
      "source": [
        "그 결과입니다. 색상값이 많이 바뀌었음을 확인할 수 있습니다."
      ]
    },
    {
      "cell_type": "code",
      "metadata": {
        "id": "MyRAmL-gC8zK"
      },
      "source": [
        "photo_masked = np.where(photo > 200, 255, 0)\n",
        "plt.imshow(photo_masked)"
      ],
      "execution_count": null,
      "outputs": []
    },
    {
      "cell_type": "markdown",
      "metadata": {
        "id": "wFxiaCDNDNPD"
      },
      "source": [
        "값을 바꿈에 따라, 결과 이미지의 색상 역시 변화하는 것을 확인할 수 있습니다."
      ]
    },
    {
      "cell_type": "markdown",
      "metadata": {
        "id": "yLHFVnIoDWyn"
      },
      "source": [
        "#Operations Between Matrices\n",
        "numpy를 이용하여, array 간의 연산을 할 수 있습니다."
      ]
    },
    {
      "cell_type": "code",
      "metadata": {
        "id": "WL2s7oGeDu_s"
      },
      "source": [
        "a_array = np.array([1,2,3,4,5])\n",
        "b_array = np.array([6,7,8,9,10])"
      ],
      "execution_count": 36,
      "outputs": []
    },
    {
      "cell_type": "code",
      "metadata": {
        "id": "kFN298NGD1aO",
        "outputId": "b9b5fbee-db85-4985-9f99-4898b138a9bf",
        "colab": {
          "base_uri": "https://localhost:8080/",
          "height": 34
        }
      },
      "source": [
        "a_array + b_array"
      ],
      "execution_count": 37,
      "outputs": [
        {
          "output_type": "execute_result",
          "data": {
            "text/plain": [
              "array([ 7,  9, 11, 13, 15])"
            ]
          },
          "metadata": {
            "tags": []
          },
          "execution_count": 37
        }
      ]
    },
    {
      "cell_type": "markdown",
      "metadata": {
        "id": "449io76_D4nX"
      },
      "source": [
        "두 array 간의 합 연산이 가능합니다."
      ]
    },
    {
      "cell_type": "code",
      "metadata": {
        "id": "StqxzO8QD7Dz",
        "outputId": "e8b7416c-815b-4296-b8a5-3f62330711b9",
        "colab": {
          "base_uri": "https://localhost:8080/",
          "height": 34
        }
      },
      "source": [
        "a_array + 30"
      ],
      "execution_count": 38,
      "outputs": [
        {
          "output_type": "execute_result",
          "data": {
            "text/plain": [
              "array([31, 32, 33, 34, 35])"
            ]
          },
          "metadata": {
            "tags": []
          },
          "execution_count": 38
        }
      ]
    },
    {
      "cell_type": "markdown",
      "metadata": {
        "id": "0DLZoEYvD-7y"
      },
      "source": [
        "array의 모든 element에 특정 값을 더할 수 있습니다."
      ]
    },
    {
      "cell_type": "code",
      "metadata": {
        "id": "ZKDI7qD2D-Xl",
        "outputId": "b9f40666-f086-414e-ef6c-5927645da039",
        "colab": {
          "base_uri": "https://localhost:8080/",
          "height": 34
        }
      },
      "source": [
        "a_array * b_array"
      ],
      "execution_count": 39,
      "outputs": [
        {
          "output_type": "execute_result",
          "data": {
            "text/plain": [
              "array([ 6, 14, 24, 36, 50])"
            ]
          },
          "metadata": {
            "tags": []
          },
          "execution_count": 39
        }
      ]
    },
    {
      "cell_type": "markdown",
      "metadata": {
        "id": "jREdkylFENu6"
      },
      "source": [
        "두 array의 각 element끼리의 곱연산 또한 할 수 있습니다."
      ]
    },
    {
      "cell_type": "code",
      "metadata": {
        "id": "F0CI9VnyERKv",
        "outputId": "160f73d6-3bee-419c-88da-f40801199d27",
        "colab": {
          "base_uri": "https://localhost:8080/",
          "height": 34
        }
      },
      "source": [
        "a_array * 10"
      ],
      "execution_count": 40,
      "outputs": [
        {
          "output_type": "execute_result",
          "data": {
            "text/plain": [
              "array([10, 20, 30, 40, 50])"
            ]
          },
          "metadata": {
            "tags": []
          },
          "execution_count": 40
        }
      ]
    },
    {
      "cell_type": "markdown",
      "metadata": {
        "id": "KdXNzMDgEYOS"
      },
      "source": [
        "array의 각 element에 특정 값을 곱할 수 있습니다."
      ]
    },
    {
      "cell_type": "code",
      "metadata": {
        "id": "acgTSpZGEmut",
        "outputId": "31ee2d56-d65e-4c73-e0f1-e3a7c1d198e6",
        "colab": {
          "base_uri": "https://localhost:8080/",
          "height": 34
        }
      },
      "source": [
        "a_array @ b_array"
      ],
      "execution_count": 41,
      "outputs": [
        {
          "output_type": "execute_result",
          "data": {
            "text/plain": [
              "130"
            ]
          },
          "metadata": {
            "tags": []
          },
          "execution_count": 41
        }
      ]
    },
    {
      "cell_type": "markdown",
      "metadata": {
        "id": "KtfUSKofEptO"
      },
      "source": [
        "a_array와 b_array 사이의 dot product를 수행하였습니다.   \n",
        "즉, 각 element끼리 곱한 값의 총합을 구합니다."
      ]
    },
    {
      "cell_type": "code",
      "metadata": {
        "id": "nQ8p1XWtE2Sw"
      },
      "source": [
        "plt.imshow(photo[:,:,0].T)"
      ],
      "execution_count": null,
      "outputs": []
    },
    {
      "cell_type": "markdown",
      "metadata": {
        "id": "6-Xh61zoFBIs"
      },
      "source": [
        "Transpose 연산입니다.   \n",
        ".T를 array(matrix) 뒤에 붙임으로써 가로와 세로를 서로 바꿀 수 있습니다 (transpose)."
      ]
    },
    {
      "cell_type": "code",
      "metadata": {
        "id": "qXuWS3zXFTxI",
        "outputId": "3f99b11f-8482-4deb-f53d-40b1a52d0f4e",
        "colab": {
          "base_uri": "https://localhost:8080/",
          "height": 34
        }
      },
      "source": [
        "x = np.array([2,1,4,5,3])\n",
        "np.sort(x)"
      ],
      "execution_count": 43,
      "outputs": [
        {
          "output_type": "execute_result",
          "data": {
            "text/plain": [
              "array([1, 2, 3, 4, 5])"
            ]
          },
          "metadata": {
            "tags": []
          },
          "execution_count": 43
        }
      ]
    },
    {
      "cell_type": "markdown",
      "metadata": {
        "id": "4ybLmqhKFaUl"
      },
      "source": [
        "sort를 이용하면 array 내의 값들을 손쉽게 정렬할 수 있습니다."
      ]
    }
  ]
}
